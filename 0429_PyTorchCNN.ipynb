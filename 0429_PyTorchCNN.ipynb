{
  "nbformat": 4,
  "nbformat_minor": 0,
  "metadata": {
    "colab": {
      "name": "0429_PyTorchCNN.ipynb",
      "provenance": [],
      "collapsed_sections": [],
      "include_colab_link": true
    },
    "kernelspec": {
      "name": "python3",
      "display_name": "Python 3"
    },
    "widgets": {
      "application/vnd.jupyter.widget-state+json": {
        "1dd7584ebd044115b59cf19ea2c8d78c": {
          "model_module": "@jupyter-widgets/controls",
          "model_name": "HBoxModel",
          "state": {
            "_view_name": "HBoxView",
            "_dom_classes": [],
            "_model_name": "HBoxModel",
            "_view_module": "@jupyter-widgets/controls",
            "_model_module_version": "1.5.0",
            "_view_count": null,
            "_view_module_version": "1.5.0",
            "box_style": "",
            "layout": "IPY_MODEL_4a7f3c85ab394b60a6521e86011eff75",
            "_model_module": "@jupyter-widgets/controls",
            "children": [
              "IPY_MODEL_bfa488c508f245ff8d82685fd1093205",
              "IPY_MODEL_ce8c7a7564ed423f817426f59de951b7"
            ]
          }
        },
        "4a7f3c85ab394b60a6521e86011eff75": {
          "model_module": "@jupyter-widgets/base",
          "model_name": "LayoutModel",
          "state": {
            "_view_name": "LayoutView",
            "grid_template_rows": null,
            "right": null,
            "justify_content": null,
            "_view_module": "@jupyter-widgets/base",
            "overflow": null,
            "_model_module_version": "1.2.0",
            "_view_count": null,
            "flex_flow": null,
            "width": null,
            "min_width": null,
            "border": null,
            "align_items": null,
            "bottom": null,
            "_model_module": "@jupyter-widgets/base",
            "top": null,
            "grid_column": null,
            "overflow_y": null,
            "overflow_x": null,
            "grid_auto_flow": null,
            "grid_area": null,
            "grid_template_columns": null,
            "flex": null,
            "_model_name": "LayoutModel",
            "justify_items": null,
            "grid_row": null,
            "max_height": null,
            "align_content": null,
            "visibility": null,
            "align_self": null,
            "height": null,
            "min_height": null,
            "padding": null,
            "grid_auto_rows": null,
            "grid_gap": null,
            "max_width": null,
            "order": null,
            "_view_module_version": "1.2.0",
            "grid_template_areas": null,
            "object_position": null,
            "object_fit": null,
            "grid_auto_columns": null,
            "margin": null,
            "display": null,
            "left": null
          }
        },
        "bfa488c508f245ff8d82685fd1093205": {
          "model_module": "@jupyter-widgets/controls",
          "model_name": "FloatProgressModel",
          "state": {
            "_view_name": "ProgressView",
            "style": "IPY_MODEL_37599dde372c40e8a0a4c09e9a4fec4b",
            "_dom_classes": [],
            "description": "",
            "_model_name": "FloatProgressModel",
            "bar_style": "success",
            "max": 170498071,
            "_view_module": "@jupyter-widgets/controls",
            "_model_module_version": "1.5.0",
            "value": 170498071,
            "_view_count": null,
            "_view_module_version": "1.5.0",
            "orientation": "horizontal",
            "min": 0,
            "description_tooltip": null,
            "_model_module": "@jupyter-widgets/controls",
            "layout": "IPY_MODEL_1e861e041c3844e19781626552abf1b6"
          }
        },
        "ce8c7a7564ed423f817426f59de951b7": {
          "model_module": "@jupyter-widgets/controls",
          "model_name": "HTMLModel",
          "state": {
            "_view_name": "HTMLView",
            "style": "IPY_MODEL_09212cde3987431c98078cb10ed9eb00",
            "_dom_classes": [],
            "description": "",
            "_model_name": "HTMLModel",
            "placeholder": "​",
            "_view_module": "@jupyter-widgets/controls",
            "_model_module_version": "1.5.0",
            "value": " 170499072/? [00:07&lt;00:00, 23845939.45it/s]",
            "_view_count": null,
            "_view_module_version": "1.5.0",
            "description_tooltip": null,
            "_model_module": "@jupyter-widgets/controls",
            "layout": "IPY_MODEL_fd28c5f24d8746bf8957b43f98d962d9"
          }
        },
        "37599dde372c40e8a0a4c09e9a4fec4b": {
          "model_module": "@jupyter-widgets/controls",
          "model_name": "ProgressStyleModel",
          "state": {
            "_view_name": "StyleView",
            "_model_name": "ProgressStyleModel",
            "description_width": "initial",
            "_view_module": "@jupyter-widgets/base",
            "_model_module_version": "1.5.0",
            "_view_count": null,
            "_view_module_version": "1.2.0",
            "bar_color": null,
            "_model_module": "@jupyter-widgets/controls"
          }
        },
        "1e861e041c3844e19781626552abf1b6": {
          "model_module": "@jupyter-widgets/base",
          "model_name": "LayoutModel",
          "state": {
            "_view_name": "LayoutView",
            "grid_template_rows": null,
            "right": null,
            "justify_content": null,
            "_view_module": "@jupyter-widgets/base",
            "overflow": null,
            "_model_module_version": "1.2.0",
            "_view_count": null,
            "flex_flow": null,
            "width": null,
            "min_width": null,
            "border": null,
            "align_items": null,
            "bottom": null,
            "_model_module": "@jupyter-widgets/base",
            "top": null,
            "grid_column": null,
            "overflow_y": null,
            "overflow_x": null,
            "grid_auto_flow": null,
            "grid_area": null,
            "grid_template_columns": null,
            "flex": null,
            "_model_name": "LayoutModel",
            "justify_items": null,
            "grid_row": null,
            "max_height": null,
            "align_content": null,
            "visibility": null,
            "align_self": null,
            "height": null,
            "min_height": null,
            "padding": null,
            "grid_auto_rows": null,
            "grid_gap": null,
            "max_width": null,
            "order": null,
            "_view_module_version": "1.2.0",
            "grid_template_areas": null,
            "object_position": null,
            "object_fit": null,
            "grid_auto_columns": null,
            "margin": null,
            "display": null,
            "left": null
          }
        },
        "09212cde3987431c98078cb10ed9eb00": {
          "model_module": "@jupyter-widgets/controls",
          "model_name": "DescriptionStyleModel",
          "state": {
            "_view_name": "StyleView",
            "_model_name": "DescriptionStyleModel",
            "description_width": "",
            "_view_module": "@jupyter-widgets/base",
            "_model_module_version": "1.5.0",
            "_view_count": null,
            "_view_module_version": "1.2.0",
            "_model_module": "@jupyter-widgets/controls"
          }
        },
        "fd28c5f24d8746bf8957b43f98d962d9": {
          "model_module": "@jupyter-widgets/base",
          "model_name": "LayoutModel",
          "state": {
            "_view_name": "LayoutView",
            "grid_template_rows": null,
            "right": null,
            "justify_content": null,
            "_view_module": "@jupyter-widgets/base",
            "overflow": null,
            "_model_module_version": "1.2.0",
            "_view_count": null,
            "flex_flow": null,
            "width": null,
            "min_width": null,
            "border": null,
            "align_items": null,
            "bottom": null,
            "_model_module": "@jupyter-widgets/base",
            "top": null,
            "grid_column": null,
            "overflow_y": null,
            "overflow_x": null,
            "grid_auto_flow": null,
            "grid_area": null,
            "grid_template_columns": null,
            "flex": null,
            "_model_name": "LayoutModel",
            "justify_items": null,
            "grid_row": null,
            "max_height": null,
            "align_content": null,
            "visibility": null,
            "align_self": null,
            "height": null,
            "min_height": null,
            "padding": null,
            "grid_auto_rows": null,
            "grid_gap": null,
            "max_width": null,
            "order": null,
            "_view_module_version": "1.2.0",
            "grid_template_areas": null,
            "object_position": null,
            "object_fit": null,
            "grid_auto_columns": null,
            "margin": null,
            "display": null,
            "left": null
          }
        }
      }
    },
    "accelerator": "GPU"
  },
  "cells": [
    {
      "cell_type": "markdown",
      "metadata": {
        "id": "view-in-github",
        "colab_type": "text"
      },
      "source": [
        "<a href=\"https://colab.research.google.com/github/jim-j-james/PadhAI_Deep_Learning/blob/main/0429_PyTorchCNN.ipynb\" target=\"_parent\"><img src=\"https://colab.research.google.com/assets/colab-badge.svg\" alt=\"Open In Colab\"/></a>"
      ]
    },
    {
      "cell_type": "markdown",
      "metadata": {
        "id": "6yY-u1fMO3se"
      },
      "source": [
        "## Outline\n",
        "\n",
        "* Downloading dataset (CIFAR10)\n",
        "* `Dataloader` in `torch.utils`\n",
        "* Visualising images\n",
        "* Single and multiple convolutional layers\n",
        "* LeNet\n",
        "* Training LeNet\n",
        "* Training on GPU\n",
        "* Simple visualisation\n",
        "* Exercises"
      ]
    },
    {
      "cell_type": "code",
      "metadata": {
        "id": "ebTDFe6qZOS6"
      },
      "source": [
        "#Import the relevent libraries\n",
        "import torch\n",
        "import matplotlib.pyplot as plt\n",
        "import numpy as np"
      ],
      "execution_count": 1,
      "outputs": []
    },
    {
      "cell_type": "markdown",
      "metadata": {
        "id": "v3RZSgGLO9iY"
      },
      "source": [
        "## Data loading"
      ]
    },
    {
      "cell_type": "code",
      "metadata": {
        "id": "fOgFtnl2ZXsx",
        "colab": {
          "base_uri": "https://localhost:8080/",
          "height": 97,
          "referenced_widgets": [
            "1dd7584ebd044115b59cf19ea2c8d78c",
            "4a7f3c85ab394b60a6521e86011eff75",
            "bfa488c508f245ff8d82685fd1093205",
            "ce8c7a7564ed423f817426f59de951b7",
            "37599dde372c40e8a0a4c09e9a4fec4b",
            "1e861e041c3844e19781626552abf1b6",
            "09212cde3987431c98078cb10ed9eb00",
            "fd28c5f24d8746bf8957b43f98d962d9"
          ]
        },
        "outputId": "0e90546d-e2f0-44db-d03d-4cd0264192d5"
      },
      "source": [
        "#Import the computer vision library of PyTorch which is torchvision\n",
        "#Download the data in to the local folder ./data and convert  to tensor on the way\n",
        "#The torchvision.datasets will allow us to work with the compressed input data.\n",
        "#https://www.cs.toronto.edu/~kriz/cifar.html\n",
        "#https://towardsdatascience.com/cifar-10-image-classification-in-tensorflow-5b501f7dc77c\n",
        "#https://pytorch.org/docs/stable/torchvision/datasets.html\n",
        "#https://pytorch.org/docs/stable/torchvision/transforms.html\n",
        "import torchvision\n",
        "import torchvision.transforms as transforms\n",
        "trainset = torchvision.datasets.CIFAR10(root='./data', train=True, \n",
        "                                        download=True, \n",
        "                                        transform=transforms.ToTensor())"
      ],
      "execution_count": 2,
      "outputs": [
        {
          "output_type": "stream",
          "text": [
            "Downloading https://www.cs.toronto.edu/~kriz/cifar-10-python.tar.gz to ./data/cifar-10-python.tar.gz\n"
          ],
          "name": "stdout"
        },
        {
          "output_type": "display_data",
          "data": {
            "application/vnd.jupyter.widget-view+json": {
              "model_id": "1dd7584ebd044115b59cf19ea2c8d78c",
              "version_minor": 0,
              "version_major": 2
            },
            "text/plain": [
              "HBox(children=(FloatProgress(value=0.0, max=170498071.0), HTML(value='')))"
            ]
          },
          "metadata": {
            "tags": []
          }
        },
        {
          "output_type": "stream",
          "text": [
            "\n",
            "Extracting ./data/cifar-10-python.tar.gz to ./data\n"
          ],
          "name": "stdout"
        }
      ]
    },
    {
      "cell_type": "code",
      "metadata": {
        "id": "tjT-1-Uba1n-"
      },
      "source": [
        "#initialise the 10 classes\n",
        "classes = ('plane', 'car', 'bird', 'cat', 'deer', 'dog', 'frog', 'horse', 'ship', 'truck')"
      ],
      "execution_count": 3,
      "outputs": []
    },
    {
      "cell_type": "code",
      "metadata": {
        "id": "dpU3_h-JaFi_"
      },
      "source": [
        "#https://pytorch.org/docs/stable/data.html\n",
        "#Load the train data in batches of 4 while shuffling to create some randomness\n",
        "trainloader = torch.utils.data.DataLoader(trainset, batch_size=4, shuffle=True)"
      ],
      "execution_count": 4,
      "outputs": []
    },
    {
      "cell_type": "code",
      "metadata": {
        "id": "TGkggskRaXhz",
        "colab": {
          "base_uri": "https://localhost:8080/"
        },
        "outputId": "8f19933e-b8e2-4941-db9d-bae3cc069ab6"
      },
      "source": [
        "#Declare an iter fucntion on the \"trainloader\" object and the next() function will load the first batch of images and labels.\n",
        "dataiter = iter(trainloader)\n",
        "images, labels = dataiter.next()\n",
        "\n",
        "#4 images from 1 batch,3 channels(R,G,B),32*32 image resolution\n",
        "print(images.shape)\n",
        "\n",
        "#1st Image,3 channels(R,G,B),32*32 image resolution\n",
        "print(images[1].shape)\n",
        "#First image in the batch and corresponding index. e.g if the index is 0 then it is a 'plane.'\n",
        "print(labels[1].item())\n",
        "print(classes[labels[1].item()])"
      ],
      "execution_count": 5,
      "outputs": [
        {
          "output_type": "stream",
          "text": [
            "torch.Size([4, 3, 32, 32])\n",
            "torch.Size([3, 32, 32])\n",
            "9\n",
            "truck\n"
          ],
          "name": "stdout"
        }
      ]
    },
    {
      "cell_type": "code",
      "metadata": {
        "id": "RMLgzgf8PtN9",
        "colab": {
          "base_uri": "https://localhost:8080/"
        },
        "outputId": "c4728083-d24b-4c8e-ba52-8b58a8c14513"
      },
      "source": [
        "#Get the first image which is of type Tensor\n",
        "img = images[1]\n",
        "print(type(img))"
      ],
      "execution_count": 6,
      "outputs": [
        {
          "output_type": "stream",
          "text": [
            "<class 'torch.Tensor'>\n"
          ],
          "name": "stdout"
        }
      ]
    },
    {
      "cell_type": "code",
      "metadata": {
        "id": "mXeB_gG9QIIW",
        "colab": {
          "base_uri": "https://localhost:8080/"
        },
        "outputId": "ca76bb7d-3c1e-4d8e-a111-8ad9ce9337dc"
      },
      "source": [
        "#Convert to tensor to numpy and print the dimensions which is 3*32*32\n",
        "npimg = img.numpy()\n",
        "print(npimg.shape)"
      ],
      "execution_count": 7,
      "outputs": [
        {
          "output_type": "stream",
          "text": [
            "(3, 32, 32)\n"
          ],
          "name": "stdout"
        }
      ]
    },
    {
      "cell_type": "code",
      "metadata": {
        "id": "T7MfJdNAQKmy",
        "colab": {
          "base_uri": "https://localhost:8080/"
        },
        "outputId": "3799f3ab-42f7-4e09-e934-33e0d0178b52"
      },
      "source": [
        "#To plot it correctly the dimensions need to be modifeid in the (x,y,z) form compared to the current format (z,x,y)\n",
        "npimg = np.transpose(npimg, (1, 2, 0))\n",
        "print(npimg.shape)"
      ],
      "execution_count": 8,
      "outputs": [
        {
          "output_type": "stream",
          "text": [
            "(32, 32, 3)\n"
          ],
          "name": "stdout"
        }
      ]
    },
    {
      "cell_type": "code",
      "metadata": {
        "id": "Xjh0IJNIQS4G",
        "colab": {
          "base_uri": "https://localhost:8080/",
          "height": 105
        },
        "outputId": "22a68d79-fa5c-4305-9356-497cc6536be2"
      },
      "source": [
        "#The imshow can then display the actual image abd the size is limited to (1,1) since the defualt size is 32*32.\n",
        "#plt.figure()\n",
        "plt.figure(figsize = (1,1))\n",
        "plt.imshow(npimg)\n",
        "plt.show()"
      ],
      "execution_count": 9,
      "outputs": [
        {
          "output_type": "display_data",
          "data": {
            "image/png": "[encoded data removed]",
            "text/plain": [
              "<Figure size 72x72 with 1 Axes>"
            ]
          },
          "metadata": {
            "tags": [],
            "needs_background": "light"
          }
        }
      ]
    },
    {
      "cell_type": "code",
      "metadata": {
        "id": "ItDj5P3xZrX3"
      },
      "source": [
        "#The above steps are put in to function so that it can be called for a set of images\n",
        "def imshow(img):\n",
        "    npimg = img.numpy()\n",
        "    plt.imshow(np.transpose(npimg, (1, 2, 0)))\n",
        "    plt.show()"
      ],
      "execution_count": 10,
      "outputs": []
    },
    {
      "cell_type": "code",
      "metadata": {
        "id": "vX2OhQjVhFVT",
        "colab": {
          "base_uri": "https://localhost:8080/",
          "height": 153
        },
        "outputId": "85a584ca-0f72-4f82-e40f-e7eee5d94dc1"
      },
      "source": [
        "#A grid is made out using the torchvision.utils.make_grid and imshow is applied on top of it to display the grid of 4 images in the batch\n",
        "#https://pytorch.org/docs/stable/torchvision/utils.html\n",
        "imshow(torchvision.utils.make_grid(images))\n",
        "print(' '.join(classes[labels[j]] for j in range(4)))"
      ],
      "execution_count": 11,
      "outputs": [
        {
          "output_type": "display_data",
          "data": {
            "image/png": "[encoded data removed]",
            "text/plain": [
              "<Figure size 432x288 with 1 Axes>"
            ]
          },
          "metadata": {
            "tags": [],
            "needs_background": "light"
          }
        },
        {
          "output_type": "stream",
          "text": [
            "horse truck truck frog\n"
          ],
          "name": "stdout"
        }
      ]
    },
    {
      "cell_type": "markdown",
      "metadata": {
        "id": "KIP5NFfgQfNo"
      },
      "source": [
        "## 1 Layer CNN"
      ]
    },
    {
      "cell_type": "code",
      "metadata": {
        "id": "rehaPwlqaapX"
      },
      "source": [
        "#CNN defined with 1 layer\n",
        "import torch.nn as nn\n",
        "\n",
        "class FirstCNN(nn.Module):\n",
        "    def __init__(self): \n",
        "        super(FirstCNN, self).__init__()\n",
        "        #2D convolution since the kernel deals in 2D,eventhough the image is of 4 dimensions (batch_size(4),no:Of channels(3),image resolution(32*32))\n",
        "        #the Conv2d had the parameters (no of inp channels(3),no of output channles/kernels(16),size of kernel 3*3,stride(2) and padding(1))\n",
        "        self.conv1 = nn.Conv2d(3, 16, 3, padding=(1,1), stride=(2,2)) # padding=(1,1), stride=(2,2))\n",
        "\n",
        "    #Create the forward function as applying the convolution operation and returning the output    \n",
        "    def forward(self, x):\n",
        "        x = self.conv1(x)\n",
        "        return x"
      ],
      "execution_count": 12,
      "outputs": []
    },
    {
      "cell_type": "code",
      "metadata": {
        "id": "Gj33mJuCg8w-"
      },
      "source": [
        "#Initialise the 1 layer CNN\n",
        "net = FirstCNN()"
      ],
      "execution_count": 13,
      "outputs": []
    },
    {
      "cell_type": "code",
      "metadata": {
        "id": "BnAWY2-qg9jR",
        "colab": {
          "base_uri": "https://localhost:8080/"
        },
        "outputId": "32fbe6af-4e7d-4456-de8a-76c5b5d5660b"
      },
      "source": [
        "#Apply the CNN to first set of images and the output will be 4 sets corresponding to 4 images, with each batch having 16 output layers, with each layer of size 16*16. \n",
        "#The size got reduced from 32*32 to 16*16 as the stride was 2 and padding was (1,1).\n",
        "out = net(images)\n",
        "out.shape"
      ],
      "execution_count": 14,
      "outputs": [
        {
          "output_type": "execute_result",
          "data": {
            "text/plain": [
              "torch.Size([4, 16, 16, 16])"
            ]
          },
          "metadata": {
            "tags": []
          },
          "execution_count": 14
        }
      ]
    },
    {
      "cell_type": "code",
      "metadata": {
        "id": "ynP7midTjfIn",
        "colab": {
          "base_uri": "https://localhost:8080/"
        },
        "outputId": "4346a79a-f839-440b-d866-028af1024469"
      },
      "source": [
        "#On displaying the parameters of the model we have\n",
        "#torch.Size([16, 3, 3, 3]) - 16 output layers, 3 input channels,3*3 kernel - Total - 16*3*3 -151 weight parameters\n",
        "#torch.Size([16])  - Biases\n",
        "for param in net.parameters():\n",
        "    print(param.shape)"
      ],
      "execution_count": 15,
      "outputs": [
        {
          "output_type": "stream",
          "text": [
            "torch.Size([16, 3, 3, 3])\n",
            "torch.Size([16])\n"
          ],
          "name": "stdout"
        }
      ]
    },
    {
      "cell_type": "code",
      "metadata": {
        "id": "aBYgoxzEia-D",
        "colab": {
          "base_uri": "https://localhost:8080/"
        },
        "outputId": "13b2b337-383d-4324-962d-3185d2fec4f3"
      },
      "source": [
        "#printing the shape of 1st output layer(out of 16) from 1st batch,1st image\n",
        "out1 = out[0, 0, :, :].detach().numpy()\n",
        "print(out1.shape)"
      ],
      "execution_count": 16,
      "outputs": [
        {
          "output_type": "stream",
          "text": [
            "(16, 16)\n"
          ],
          "name": "stdout"
        }
      ]
    },
    {
      "cell_type": "code",
      "metadata": {
        "id": "FG8Mqfw5i7hP",
        "colab": {
          "base_uri": "https://localhost:8080/",
          "height": 265
        },
        "outputId": "2e4aac18-d9e2-4007-da40-0fc0016802ac"
      },
      "source": [
        "#Display the output from 1st layer(out of 16) from 1st batch,1st image from the 1 layer CNN\n",
        "plt.imshow(out[0, 0, :, :].detach().numpy())\n",
        "plt.show()"
      ],
      "execution_count": 17,
      "outputs": [
        {
          "output_type": "display_data",
          "data": {
            "image/png": "[encoded data removed]",
            "text/plain": [
              "<Figure size 432x288 with 1 Axes>"
            ]
          },
          "metadata": {
            "tags": [],
            "needs_background": "light"
          }
        }
      ]
    },
    {
      "cell_type": "markdown",
      "metadata": {
        "id": "Y6nSsRqRQ3sJ"
      },
      "source": [
        "## 2 Layer CNN"
      ]
    },
    {
      "cell_type": "code",
      "metadata": {
        "id": "YtwIDsUUjH9h"
      },
      "source": [
        "#Define a 2 layer CNN\n",
        "class FirstCNN_v2(nn.Module):\n",
        "    def __init__(self): \n",
        "        super(FirstCNN_v2, self).__init__()\n",
        "        self.model = nn.Sequential(\n",
        "            #Stacking 2 convolutional layers\n",
        "            #1st layer - 3 input channels,8 output layers,3*3 kernal\n",
        "            nn.Conv2d(3, 8, 3),   # (N, 3, 32, 32) -> (N, 8, 30, 30) #output is 30*30 as there is no padding\n",
        "            #2nd layer - 8 input layers,16 output layers,3*3 kernal\n",
        "            nn.Conv2d(8, 16, 3)   # (N, 8, 30, 30) -> (N, 16, 28, 28) #output is 28*28 as there is no padding\n",
        "        )\n",
        "        \n",
        "    def forward(self, x):\n",
        "        x = self.model(x)\n",
        "        return x"
      ],
      "execution_count": 18,
      "outputs": []
    },
    {
      "cell_type": "code",
      "metadata": {
        "id": "1TlJtTMoliU3",
        "colab": {
          "base_uri": "https://localhost:8080/"
        },
        "outputId": "e2c3fa65-d2fb-4d4a-80ad-0f4240a4a219"
      },
      "source": [
        "#Initialise the 2 layer CNN and apply the same to the 1st batch of 4 images\n",
        "net = FirstCNN_v2()\n",
        "out = net(images)\n",
        "out.shape"
      ],
      "execution_count": 19,
      "outputs": [
        {
          "output_type": "execute_result",
          "data": {
            "text/plain": [
              "torch.Size([4, 16, 28, 28])"
            ]
          },
          "metadata": {
            "tags": []
          },
          "execution_count": 19
        }
      ]
    },
    {
      "cell_type": "code",
      "metadata": {
        "id": "jpPuOr1TlilH",
        "colab": {
          "base_uri": "https://localhost:8080/",
          "height": 281
        },
        "outputId": "26c73996-b691-4c43-ccea-5c7b60867a99"
      },
      "source": [
        "#Display the output from 1st layer(out of 16) from 1st batch,1st image from the 2 layer CNN\n",
        "plt.imshow(out[0, 0, :, :].detach().numpy())"
      ],
      "execution_count": 20,
      "outputs": [
        {
          "output_type": "execute_result",
          "data": {
            "text/plain": [
              "<matplotlib.image.AxesImage at 0x7f29041d46d0>"
            ]
          },
          "metadata": {
            "tags": []
          },
          "execution_count": 20
        },
        {
          "output_type": "display_data",
          "data": {
            "image/png": "[encoded data removed]",
            "text/plain": [
              "<Figure size 432x288 with 1 Axes>"
            ]
          },
          "metadata": {
            "tags": [],
            "needs_background": "light"
          }
        }
      ]
    },
    {
      "cell_type": "markdown",
      "metadata": {
        "id": "-Ed25KxfSxvJ"
      },
      "source": [
        "## 3 Layer CNN"
      ]
    },
    {
      "cell_type": "code",
      "metadata": {
        "id": "5GnYimnTmFyi"
      },
      "source": [
        "#Define a 3 layer CNN\n",
        "class FirstCNN_v3(nn.Module):\n",
        "    def __init__(self): \n",
        "        super(FirstCNN_v3, self).__init__()\n",
        "        self.model = nn.Sequential(\n",
        "            #apply 4 layers with 2 convolution followed by AvgPool2d. The AvgPool2d functtion is taking 2*2 filter with stride of 2 there by cutting the size in to half\n",
        "            nn.Conv2d(3, 6, 5),          # (N, 3, 32, 32) -> (N, 6, 28, 28)\n",
        "            nn.AvgPool2d(2, stride=2),   # (N, 6, 28, 28) -> (N, 6, 14, 14)\n",
        "            nn.Conv2d(6, 16, 5),         # (N, 6, 14, 14) -> (N, 16, 10, 10)\n",
        "            nn.AvgPool2d(2, stride=2)    # (N, 16, 10, 10) -> (N, 16, 5, 5)\n",
        "        )\n",
        "        \n",
        "    def forward(self, x):\n",
        "        x = self.model(x)\n",
        "        return x"
      ],
      "execution_count": 21,
      "outputs": []
    },
    {
      "cell_type": "code",
      "metadata": {
        "id": "ldq1anrdmwox",
        "colab": {
          "base_uri": "https://localhost:8080/"
        },
        "outputId": "f52c6586-d44a-4def-ca11-ccb09fa4bf58"
      },
      "source": [
        "#Initialise the 3 layer CNN and apply the same to the 1st batch of 4 images\n",
        "net = FirstCNN_v3()\n",
        "out = net(images)\n",
        "out.shape"
      ],
      "execution_count": 22,
      "outputs": [
        {
          "output_type": "execute_result",
          "data": {
            "text/plain": [
              "torch.Size([4, 16, 5, 5])"
            ]
          },
          "metadata": {
            "tags": []
          },
          "execution_count": 22
        }
      ]
    },
    {
      "cell_type": "code",
      "metadata": {
        "id": "tOnUd7TyVunB",
        "colab": {
          "base_uri": "https://localhost:8080/",
          "height": 281
        },
        "outputId": "ace369eb-d1c2-417e-f3bc-af86aae656ca"
      },
      "source": [
        "#Display the output from 1st layer(out of 16) from 1st batch,1st image from the 3 layer CNN\n",
        "plt.imshow(out[0, 0, :, :].detach().numpy())"
      ],
      "execution_count": 23,
      "outputs": [
        {
          "output_type": "execute_result",
          "data": {
            "text/plain": [
              "<matplotlib.image.AxesImage at 0x7f290440c250>"
            ]
          },
          "metadata": {
            "tags": []
          },
          "execution_count": 23
        },
        {
          "output_type": "display_data",
          "data": {
            "image/png": "[encoded data removed]",
            "text/plain": [
              "<Figure size 432x288 with 1 Axes>"
            ]
          },
          "metadata": {
            "tags": [],
            "needs_background": "light"
          }
        }
      ]
    },
    {
      "cell_type": "markdown",
      "metadata": {
        "id": "vymNQCrDQ7dM"
      },
      "source": [
        "## LeNet"
      ]
    },
    {
      "cell_type": "code",
      "metadata": {
        "id": "npS8lRGT15bx"
      },
      "source": [
        "#Define the LeNet CNN architecture\n",
        "class LeNet(nn.Module):\n",
        "    def __init__(self): \n",
        "        super(LeNet, self).__init__()\n",
        "        #CNN part of the LeNet model\n",
        "        self.cnn_model = nn.Sequential(\n",
        "            nn.Conv2d(3, 6, 5),         # (N, 3, 32, 32) -> (N,  6, 28, 28)\n",
        "            nn.Tanh(),\n",
        "            nn.AvgPool2d(2, stride=2),  # (N, 6, 28, 28) -> (N,  6, 14, 14)\n",
        "            nn.Conv2d(6, 16, 5),        # (N, 6, 14, 14) -> (N, 16, 10, 10)  \n",
        "            nn.Tanh(),\n",
        "            nn.AvgPool2d(2, stride=2)   # (N,16, 10, 10) -> (N, 16, 5, 5)\n",
        "        )\n",
        "        #Fully connected part of the LeNet Model\n",
        "        #The output from CNN layers should be flattened in the forward operation before the fully connected layer operations are performed (N, 16, 5, 5)-->(N, 400)\n",
        "        self.fc_model = nn.Sequential(\n",
        "            nn.Linear(400,120),         # (N, 400) -> (N, 120)\n",
        "            nn.Tanh(),\n",
        "            nn.Linear(120,84),          # (N, 120) -> (N, 84)\n",
        "            nn.Tanh(),\n",
        "            nn.Linear(84,10)            # (N, 84)  -> (N, 10)\n",
        "        )\n",
        "        \n",
        "    #Define the forward pass for CNN\n",
        "    def forward(self, x):\n",
        "        print(x.shape)\n",
        "        #Apply the cnn_model, the CNN part of LeNET\n",
        "        x = self.cnn_model(x)\n",
        "        print(x.shape)\n",
        "        #The 16*5*5 output from CNN layer is flattened before applying the FC layer\n",
        "        #apply x.view(x.size(0), -1) which will retain the same dimension as N follwed by a collapse of all other indicated by -1 which is 16*5*5=400    \n",
        "        x = x.view(x.size(0), -1)\n",
        "        print(x.shape)\n",
        "        #The soft max function is snot applied at the end as the maximum value out of the 10 classes will be the maximum in sigmoid as well.\n",
        "        #However softmax is important in back propagation as the sigmoid function is part of the cross entropy loss function.\n",
        "        x = self.fc_model(x)\n",
        "        print(x.shape)\n",
        "        return x"
      ],
      "execution_count": 24,
      "outputs": []
    },
    {
      "cell_type": "code",
      "metadata": {
        "id": "hruUII0sRIO4",
        "colab": {
          "base_uri": "https://localhost:8080/"
        },
        "outputId": "3d63c61d-7446-4767-80e1-f8742170cfec"
      },
      "source": [
        "#Initialise a LeNet CNN and Apply it on 4 images\n",
        "net = LeNet()\n",
        "out = net(images)"
      ],
      "execution_count": 25,
      "outputs": [
        {
          "output_type": "stream",
          "text": [
            "torch.Size([4, 3, 32, 32])\n",
            "torch.Size([4, 16, 5, 5])\n",
            "torch.Size([4, 400])\n",
            "torch.Size([4, 10])\n"
          ],
          "name": "stdout"
        }
      ]
    },
    {
      "cell_type": "code",
      "metadata": {
        "id": "2E66qlEzRapT",
        "colab": {
          "base_uri": "https://localhost:8080/"
        },
        "outputId": "d55b360b-0025-42bb-f159-48a9b06a36c2"
      },
      "source": [
        "#The output which is actually 4 lists with the probability scores for 4 images across 10 labels.\n",
        "#The label that has the maximum value will be the pediction assosiated with each of the  4 images. \n",
        "print(out)"
      ],
      "execution_count": 26,
      "outputs": [
        {
          "output_type": "stream",
          "text": [
            "tensor([[-0.0251, -0.0537,  0.0267, -0.0648,  0.1038, -0.1212,  0.0427, -0.0782,\n",
            "         -0.0060, -0.0023],\n",
            "        [-0.0286, -0.0521, -0.0184, -0.1062,  0.0640, -0.1124,  0.0376, -0.0360,\n",
            "         -0.0115, -0.0073],\n",
            "        [-0.0091, -0.0573, -0.0079, -0.0663,  0.0650, -0.1205,  0.0322, -0.0508,\n",
            "         -0.0007,  0.0018],\n",
            "        [-0.0012, -0.0605,  0.0040, -0.0636,  0.0806, -0.1411,  0.0329, -0.0683,\n",
            "          0.0104,  0.0006]], grad_fn=<AddmmBackward>)\n"
          ],
          "name": "stdout"
        }
      ]
    },
    {
      "cell_type": "code",
      "metadata": {
        "id": "ZiYvD0l7Rhma",
        "colab": {
          "base_uri": "https://localhost:8080/"
        },
        "outputId": "dbf52e52-fbe0-45fe-cffa-8ee5c5254a77"
      },
      "source": [
        "# Class List = ('plane', 'car', 'bird', 'cat', 'deer', 'dog', 'frog', 'horse', 'ship', 'truck')\n",
        "#Get the max values for each of the 4 classes and rerieve the corresponding classes.\n",
        "#All the images are predicted as 'car' with index 1, as this is only 1 iteration and to be more effective it has to go through the 'training process' below.\n",
        "max_values, pred_class = torch.max(out.data, 1)\n",
        "print(pred_class)"
      ],
      "execution_count": 27,
      "outputs": [
        {
          "output_type": "stream",
          "text": [
            "tensor([4, 4, 4, 4])\n"
          ],
          "name": "stdout"
        }
      ]
    },
    {
      "cell_type": "markdown",
      "metadata": {
        "id": "lOQGdybZRQqk"
      },
      "source": [
        "## Training LeNet"
      ]
    },
    {
      "cell_type": "code",
      "metadata": {
        "id": "ylTZodUuV1eb"
      },
      "source": [
        "#Define LeNet CNN\n",
        "class LeNet(nn.Module):\n",
        "    def __init__(self): \n",
        "        super(LeNet, self).__init__()\n",
        "        self.cnn_model = nn.Sequential(\n",
        "            nn.Conv2d(3, 6, 5),         # (N, 3, 32, 32) -> (N,  6, 28, 28)\n",
        "            nn.Tanh(),\n",
        "            nn.AvgPool2d(2, stride=2),  # (N, 6, 28, 28) -> (N,  6, 14, 14)\n",
        "            nn.Conv2d(6, 16, 5),        # (N, 6, 14, 14) -> (N, 16, 10, 10)  \n",
        "            nn.Tanh(),\n",
        "            nn.AvgPool2d(2, stride=2)   # (N,16, 10, 10) -> (N, 16, 5, 5)\n",
        "        )\n",
        "        self.fc_model = nn.Sequential(\n",
        "            nn.Linear(400,120),         # (N, 400) -> (N, 120)\n",
        "            nn.Tanh(),\n",
        "            nn.Linear(120,84),          # (N, 120) -> (N, 84)\n",
        "            nn.Tanh(),\n",
        "            nn.Linear(84,10)            # (N, 84)  -> (N, 10)\n",
        "        )\n",
        "        \n",
        "    def forward(self, x):\n",
        "        x = self.cnn_model(x)\n",
        "        x = x.view(x.size(0), -1)\n",
        "        x = self.fc_model(x)\n",
        "        return x"
      ],
      "execution_count": 28,
      "outputs": []
    },
    {
      "cell_type": "code",
      "metadata": {
        "id": "GOWc4kya8UDC",
        "colab": {
          "base_uri": "https://localhost:8080/"
        },
        "outputId": "8be4b8b7-2ff4-4f4a-af9e-bc4d87e58994"
      },
      "source": [
        "#The batch size is increased to 128 from 2. The bathc sise should be selected as power of 2 as GPU's work best on batch sizes with powere of 2.\n",
        "#Get the CIFAR10 daset for training and testing.\n",
        "batch_size = 128\n",
        "trainset = torchvision.datasets.CIFAR10(root='./data', train=True, download=True, transform=transforms.ToTensor())\n",
        "trainloader = torch.utils.data.DataLoader(trainset, batch_size=batch_size, shuffle=True)\n",
        "testset = torchvision.datasets.CIFAR10(root='./data', train=False, download=True, transform=transforms.ToTensor())\n",
        "testloader = torch.utils.data.DataLoader(testset, batch_size=batch_size, shuffle=False)"
      ],
      "execution_count": 29,
      "outputs": [
        {
          "output_type": "stream",
          "text": [
            "Files already downloaded and verified\n",
            "Files already downloaded and verified\n"
          ],
          "name": "stdout"
        }
      ]
    },
    {
      "cell_type": "code",
      "metadata": {
        "id": "x9ehrnaHHZoj"
      },
      "source": [
        "#Evaluation function to check the % of predictions that was correct for training and test datasets.\n",
        "def evaluation(dataloader):\n",
        "    total, correct = 0, 0\n",
        "    for data in dataloader:\n",
        "        inputs, labels = data\n",
        "        outputs = net(inputs)\n",
        "        _, pred = torch.max(outputs.data, 1)\n",
        "        total += labels.size(0)\n",
        "        correct += (pred == labels).sum().item()\n",
        "    return 100 * correct / total"
      ],
      "execution_count": 30,
      "outputs": []
    },
    {
      "cell_type": "code",
      "metadata": {
        "id": "3pYTvSvD2TwM"
      },
      "source": [
        "#Initialise a LeNet CNN\n",
        "net = LeNet()"
      ],
      "execution_count": 31,
      "outputs": []
    },
    {
      "cell_type": "code",
      "metadata": {
        "id": "2T6Wzz7J2xq3"
      },
      "source": [
        "#Define the loss and optimisation model.\n",
        "import torch.optim as optim\n",
        "loss_fn = nn.CrossEntropyLoss()\n",
        "opt = optim.Adam(net.parameters())"
      ],
      "execution_count": 32,
      "outputs": []
    },
    {
      "cell_type": "code",
      "metadata": {
        "id": "a0LnxsXi6Cgt",
        "colab": {
          "base_uri": "https://localhost:8080/",
          "height": 1000
        },
        "outputId": "2722f355-002e-4cba-a7a6-fec031c26e93"
      },
      "source": [
        "#Run the traning process for all the images 'max_epochs' # of times.\n",
        "#Store the loss value for each iteration which ideally should decrease for every iteration.\n",
        "%%time\n",
        "loss_arr = []\n",
        "loss_epoch_arr = []\n",
        "max_epochs = 50\n",
        "\n",
        "for epoch in range(max_epochs):\n",
        "    for i, data in enumerate(trainloader, 0):\n",
        "        inputs, labels = data\n",
        "        opt.zero_grad()\n",
        "        outputs = net(inputs)\n",
        "        loss = loss_fn(outputs, labels)\n",
        "        loss.backward()\n",
        "        opt.step()\n",
        "        loss_arr.append(loss.item())\n",
        "    loss_epoch_arr.append(loss.item())\n",
        "    print('Epoch: %d/%d, Test acc: %0.2f, Train acc: %0.2f' % (epoch, max_epochs, evaluation(testloader), evaluation(trainloader)))\n",
        "\n",
        "#display the loss trend across the iterations.\n",
        "plt.plot(loss_epoch_arr)\n",
        "plt.show()"
      ],
      "execution_count": 33,
      "outputs": [
        {
          "output_type": "stream",
          "text": [
            "Epoch: 0/50, Test acc: 38.02, Train acc: 38.44\n",
            "Epoch: 1/50, Test acc: 42.07, Train acc: 42.25\n",
            "Epoch: 2/50, Test acc: 46.28, Train acc: 47.16\n",
            "Epoch: 3/50, Test acc: 47.92, Train acc: 49.46\n",
            "Epoch: 4/50, Test acc: 50.78, Train acc: 53.02\n",
            "Epoch: 5/50, Test acc: 52.01, Train acc: 54.19\n",
            "Epoch: 6/50, Test acc: 52.84, Train acc: 56.21\n",
            "Epoch: 7/50, Test acc: 53.34, Train acc: 57.46\n",
            "Epoch: 8/50, Test acc: 53.85, Train acc: 58.75\n",
            "Epoch: 9/50, Test acc: 54.66, Train acc: 59.91\n",
            "Epoch: 10/50, Test acc: 54.67, Train acc: 61.04\n",
            "Epoch: 11/50, Test acc: 54.49, Train acc: 61.39\n",
            "Epoch: 12/50, Test acc: 55.35, Train acc: 62.07\n",
            "Epoch: 13/50, Test acc: 55.50, Train acc: 63.77\n",
            "Epoch: 14/50, Test acc: 55.49, Train acc: 64.64\n",
            "Epoch: 15/50, Test acc: 55.79, Train acc: 65.10\n",
            "Epoch: 16/50, Test acc: 56.19, Train acc: 65.93\n",
            "Epoch: 17/50, Test acc: 55.81, Train acc: 66.64\n",
            "Epoch: 18/50, Test acc: 55.17, Train acc: 66.61\n",
            "Epoch: 19/50, Test acc: 55.81, Train acc: 68.08\n",
            "Epoch: 20/50, Test acc: 55.45, Train acc: 67.85\n",
            "Epoch: 21/50, Test acc: 55.55, Train acc: 69.83\n",
            "Epoch: 22/50, Test acc: 55.68, Train acc: 70.09\n",
            "Epoch: 23/50, Test acc: 55.68, Train acc: 71.16\n",
            "Epoch: 24/50, Test acc: 55.32, Train acc: 71.60\n",
            "Epoch: 25/50, Test acc: 54.37, Train acc: 71.06\n",
            "Epoch: 26/50, Test acc: 55.41, Train acc: 73.11\n",
            "Epoch: 27/50, Test acc: 55.17, Train acc: 72.78\n",
            "Epoch: 28/50, Test acc: 54.79, Train acc: 73.32\n",
            "Epoch: 29/50, Test acc: 55.81, Train acc: 74.09\n",
            "Epoch: 30/50, Test acc: 54.31, Train acc: 74.08\n",
            "Epoch: 31/50, Test acc: 54.99, Train acc: 75.38\n",
            "Epoch: 32/50, Test acc: 55.31, Train acc: 76.09\n",
            "Epoch: 33/50, Test acc: 54.93, Train acc: 76.38\n",
            "Epoch: 34/50, Test acc: 54.85, Train acc: 77.29\n",
            "Epoch: 35/50, Test acc: 54.69, Train acc: 77.55\n",
            "Epoch: 36/50, Test acc: 54.88, Train acc: 77.28\n",
            "Epoch: 37/50, Test acc: 54.98, Train acc: 78.14\n",
            "Epoch: 38/50, Test acc: 54.46, Train acc: 78.30\n",
            "Epoch: 39/50, Test acc: 54.62, Train acc: 78.29\n",
            "Epoch: 40/50, Test acc: 53.58, Train acc: 78.81\n",
            "Epoch: 41/50, Test acc: 54.03, Train acc: 80.06\n",
            "Epoch: 42/50, Test acc: 53.86, Train acc: 79.55\n",
            "Epoch: 43/50, Test acc: 54.11, Train acc: 80.77\n",
            "Epoch: 44/50, Test acc: 53.88, Train acc: 81.39\n",
            "Epoch: 45/50, Test acc: 54.38, Train acc: 81.85\n",
            "Epoch: 46/50, Test acc: 54.10, Train acc: 82.78\n",
            "Epoch: 47/50, Test acc: 53.60, Train acc: 82.47\n",
            "Epoch: 48/50, Test acc: 53.62, Train acc: 82.87\n",
            "Epoch: 49/50, Test acc: 52.73, Train acc: 83.44\n"
          ],
          "name": "stdout"
        },
        {
          "output_type": "display_data",
          "data": {
            "image/png": "[encoded data removed]",
            "text/plain": [
              "<Figure size 432x288 with 1 Axes>"
            ]
          },
          "metadata": {
            "tags": [],
            "needs_background": "light"
          }
        },
        {
          "output_type": "stream",
          "text": [
            "CPU times: user 19min 58s, sys: 9.79 s, total: 20min 8s\n",
            "Wall time: 20min 5s\n"
          ],
          "name": "stdout"
        }
      ]
    },
    {
      "cell_type": "markdown",
      "metadata": {
        "id": "ECHeB_BUTHl5"
      },
      "source": [
        "## Training LeNet in GPU"
      ]
    },
    {
      "cell_type": "code",
      "metadata": {
        "id": "Mj0-Y6zJTJ5z",
        "colab": {
          "base_uri": "https://localhost:8080/"
        },
        "outputId": "df947da1-f00f-42a3-c087-303cfe3de83c"
      },
      "source": [
        "#Run the same process as above in GPU for faster results\n",
        "device = torch.device(\"cuda:0\" if torch.cuda.is_available() else \"cpu\")\n",
        "print(device)"
      ],
      "execution_count": 34,
      "outputs": [
        {
          "output_type": "stream",
          "text": [
            "cuda:0\n"
          ],
          "name": "stdout"
        }
      ]
    },
    {
      "cell_type": "code",
      "metadata": {
        "id": "n4fHbz2fTNpR"
      },
      "source": [
        "def evaluation(dataloader):\n",
        "    total, correct = 0, 0\n",
        "    for data in dataloader:\n",
        "        inputs, labels = data\n",
        "        inputs, labels = inputs.to(device), labels.to(device)\n",
        "        outputs = net(inputs)\n",
        "        _, pred = torch.max(outputs.data, 1)\n",
        "        total += labels.size(0)\n",
        "        correct += (pred == labels).sum().item()\n",
        "    return 100 * correct / total"
      ],
      "execution_count": 35,
      "outputs": []
    },
    {
      "cell_type": "code",
      "metadata": {
        "id": "mnxecsfVTQH-"
      },
      "source": [
        "net = LeNet().to(device)\n",
        "loss_fn = nn.CrossEntropyLoss()\n",
        "opt = optim.Adam(net.parameters())"
      ],
      "execution_count": 36,
      "outputs": []
    },
    {
      "cell_type": "code",
      "metadata": {
        "id": "i9t3Js-XTWkf",
        "colab": {
          "base_uri": "https://localhost:8080/"
        },
        "outputId": "d74bca20-8e0b-40cc-dcab-f49c9f4a3bb5"
      },
      "source": [
        "%%time\n",
        "max_epochs = 50\n",
        "\n",
        "for epoch in range(max_epochs):\n",
        "\n",
        "    for i, data in enumerate(trainloader, 0):\n",
        "\n",
        "        inputs, labels = data\n",
        "        inputs, labels = inputs.to(device), labels.to(device)\n",
        "\n",
        "        opt.zero_grad()\n",
        "\n",
        "        outputs = net(inputs)\n",
        "        loss = loss_fn(outputs, labels)\n",
        "        loss.backward()\n",
        "        opt.step()\n",
        "        \n",
        "    print('Epoch: %d/%d' % (epoch, max_epochs))"
      ],
      "execution_count": 37,
      "outputs": [
        {
          "output_type": "stream",
          "text": [
            "Epoch: 0/50\n",
            "Epoch: 1/50\n",
            "Epoch: 2/50\n",
            "Epoch: 3/50\n",
            "Epoch: 4/50\n",
            "Epoch: 5/50\n",
            "Epoch: 6/50\n",
            "Epoch: 7/50\n",
            "Epoch: 8/50\n",
            "Epoch: 9/50\n",
            "Epoch: 10/50\n",
            "Epoch: 11/50\n",
            "Epoch: 12/50\n",
            "Epoch: 13/50\n",
            "Epoch: 14/50\n",
            "Epoch: 15/50\n",
            "Epoch: 16/50\n",
            "Epoch: 17/50\n",
            "Epoch: 18/50\n",
            "Epoch: 19/50\n",
            "Epoch: 20/50\n",
            "Epoch: 21/50\n",
            "Epoch: 22/50\n",
            "Epoch: 23/50\n",
            "Epoch: 24/50\n",
            "Epoch: 25/50\n",
            "Epoch: 26/50\n",
            "Epoch: 27/50\n",
            "Epoch: 28/50\n",
            "Epoch: 29/50\n",
            "Epoch: 30/50\n",
            "Epoch: 31/50\n",
            "Epoch: 32/50\n",
            "Epoch: 33/50\n",
            "Epoch: 34/50\n",
            "Epoch: 35/50\n",
            "Epoch: 36/50\n",
            "Epoch: 37/50\n",
            "Epoch: 38/50\n",
            "Epoch: 39/50\n",
            "Epoch: 40/50\n",
            "Epoch: 41/50\n",
            "Epoch: 42/50\n",
            "Epoch: 43/50\n",
            "Epoch: 44/50\n",
            "Epoch: 45/50\n",
            "Epoch: 46/50\n",
            "Epoch: 47/50\n",
            "Epoch: 48/50\n",
            "Epoch: 49/50\n",
            "CPU times: user 4min 7s, sys: 1.62 s, total: 4min 8s\n",
            "Wall time: 4min 8s\n"
          ],
          "name": "stdout"
        }
      ]
    },
    {
      "cell_type": "code",
      "metadata": {
        "id": "1mao_iiQZVlE",
        "colab": {
          "base_uri": "https://localhost:8080/"
        },
        "outputId": "2ddcdd91-dbf4-4b6e-8c1f-03644ecb2f01"
      },
      "source": [
        "print('Test acc: %0.2f, Train acc: %0.2f' % (evaluation(testloader), evaluation(trainloader)))"
      ],
      "execution_count": 38,
      "outputs": [
        {
          "output_type": "stream",
          "text": [
            "Test acc: 54.59, Train acc: 83.54\n"
          ],
          "name": "stdout"
        }
      ]
    },
    {
      "cell_type": "markdown",
      "metadata": {
        "id": "Fq5T-KsjTEUQ"
      },
      "source": [
        "## Basic Visualisation of LeNet at different levels"
      ]
    },
    {
      "cell_type": "code",
      "metadata": {
        "id": "LWfeXhrzSFSc",
        "colab": {
          "base_uri": "https://localhost:8080/",
          "height": 137
        },
        "outputId": "654a4139-58d4-4d33-993a-9d22f3ccf5e3"
      },
      "source": [
        "imshow(torchvision.utils.make_grid(images))"
      ],
      "execution_count": 39,
      "outputs": [
        {
          "output_type": "display_data",
          "data": {
            "image/png": "[encoded data removed]",
            "text/plain": [
              "<Figure size 432x288 with 1 Axes>"
            ]
          },
          "metadata": {
            "tags": [],
            "needs_background": "light"
          }
        }
      ]
    },
    {
      "cell_type": "code",
      "metadata": {
        "id": "DiorUKc-LnWx"
      },
      "source": [
        "#Transfer the CNN model from GPU to CPU for visualisation purposes\n",
        "net = net.to('cpu')"
      ],
      "execution_count": 40,
      "outputs": []
    },
    {
      "cell_type": "code",
      "metadata": {
        "id": "luNsBRCAKQC_",
        "colab": {
          "base_uri": "https://localhost:8080/"
        },
        "outputId": "5dd18fce-2fbd-4252-bba8-396693604eb3"
      },
      "source": [
        "#apply the GPU model on the grid of 4 images\n",
        "out = net(images)\n",
        "print(out.shape)"
      ],
      "execution_count": 41,
      "outputs": [
        {
          "output_type": "stream",
          "text": [
            "torch.Size([4, 10])\n"
          ],
          "name": "stdout"
        }
      ]
    },
    {
      "cell_type": "code",
      "metadata": {
        "id": "-38nfaIUKSeF",
        "colab": {
          "base_uri": "https://localhost:8080/"
        },
        "outputId": "927ac240-564f-4ea7-f70e-609842409e5d"
      },
      "source": [
        "#net.cnn_model gets all the cnn layers applied and net.cnn_model[0] will be the o/p of first layer\n",
        "#out = net.cnn_model[0](images) #4 images, 6 output layers with each layer of 28*28 size\n",
        "#out.shape"
      ],
      "execution_count": 42,
      "outputs": [
        {
          "output_type": "execute_result",
          "data": {
            "text/plain": [
              "torch.Size([4, 6, 28, 28])"
            ]
          },
          "metadata": {
            "tags": []
          },
          "execution_count": 42
        }
      ]
    },
    {
      "cell_type": "code",
      "metadata": {
        "id": "Gqj4_qG1KYcO",
        "colab": {
          "base_uri": "https://localhost:8080/",
          "height": 158
        },
        "outputId": "d733524d-f968-434c-ee15-95bbd27e080d"
      },
      "source": [
        "#Pick one image from the grid, the last one\n",
        "image_id = 3\n",
        "plt.figure(figsize = (2,2))\n",
        "imshow(images[image_id,])"
      ],
      "execution_count": 43,
      "outputs": [
        {
          "output_type": "display_data",
          "data": {
            "image/png": "[encoded data removed]",
            "text/plain": [
              "<Figure size 144x144 with 1 Axes>"
            ]
          },
          "metadata": {
            "tags": [],
            "needs_background": "light"
          }
        }
      ]
    },
    {
      "cell_type": "code",
      "metadata": {
        "id": "ZGQyAiDzFN88",
        "colab": {
          "base_uri": "https://localhost:8080/"
        },
        "outputId": "0fc72a27-a0ac-47b5-e566-0366daaf978d"
      },
      "source": [
        "#net.cnn_model gets all the cnn layers applied and net.cnn_model[0] will be the o/p of first layer\n",
        "out = net.cnn_model[0](images) #4 images, 6 output layers with each layer of 28*28 size\n",
        "out.shape"
      ],
      "execution_count": 44,
      "outputs": [
        {
          "output_type": "execute_result",
          "data": {
            "text/plain": [
              "torch.Size([4, 6, 28, 28])"
            ]
          },
          "metadata": {
            "tags": []
          },
          "execution_count": 44
        }
      ]
    },
    {
      "cell_type": "code",
      "metadata": {
        "id": "19iXHHLitP2D",
        "colab": {
          "base_uri": "https://localhost:8080/",
          "height": 428
        },
        "outputId": "4e556bd2-7071-4957-9120-155c81ac29d5"
      },
      "source": [
        "#For the picked image display the output from 6 o/p layers of 1st CNN layer\n",
        "plt.figure(figsize = (6,6))\n",
        "plt.subplot(321)\n",
        "for i in range(6):\n",
        "    ax1 = plt.subplot(3, 2, i+1)\n",
        "    plt.imshow(out[image_id, i, :, :].detach().numpy(), cmap=\"binary\")\n",
        "plt.show()"
      ],
      "execution_count": 45,
      "outputs": [
        {
          "output_type": "stream",
          "text": [
            "/usr/local/lib/python3.7/dist-packages/ipykernel_launcher.py:5: MatplotlibDeprecationWarning: Adding an axes using the same arguments as a previous axes currently reuses the earlier instance.  In a future version, a new instance will always be created and returned.  Meanwhile, this warning can be suppressed, and the future behavior ensured, by passing a unique label to each axes instance.\n",
            "  \"\"\"\n"
          ],
          "name": "stderr"
        },
        {
          "output_type": "display_data",
          "data": {
            "image/png": "[encoded data removed]",
            "text/plain": [
              "<Figure size 432x432 with 6 Axes>"
            ]
          },
          "metadata": {
            "tags": [],
            "needs_background": "light"
          }
        }
      ]
    },
    {
      "cell_type": "code",
      "metadata": {
        "id": "YSRe6CPGFoWu",
        "colab": {
          "base_uri": "https://localhost:8080/"
        },
        "outputId": "a2b8b16b-30eb-41ec-8fc0-7dc2a3fb83ac"
      },
      "source": [
        "#net.cnn_model will be the o/p of last CNN layer that has 16 o/p layers each of size 5*5\n",
        "out = net.cnn_model(images)\n",
        "print(out.shape)\n",
        "#print(out)"
      ],
      "execution_count": 46,
      "outputs": [
        {
          "output_type": "stream",
          "text": [
            "torch.Size([4, 16, 5, 5])\n"
          ],
          "name": "stdout"
        }
      ]
    },
    {
      "cell_type": "code",
      "metadata": {
        "id": "Y-V7TcZW8ctX",
        "colab": {
          "base_uri": "https://localhost:8080/",
          "height": 426
        },
        "outputId": "93a035a4-2963-4857-db67-72e5f6f348a6"
      },
      "source": [
        "#print the output of 16 seperate layers from the last CNN layer\n",
        "plt.figure(figsize = (6,6))\n",
        "plt.subplot(441)\n",
        "for i in range(16):\n",
        "    ax1 = plt.subplot(4, 4, i+1)\n",
        "    plt.imshow(out[image_id, i, :, :].detach().numpy(), cmap=\"binary\")\n",
        "plt.show()"
      ],
      "execution_count": 47,
      "outputs": [
        {
          "output_type": "stream",
          "text": [
            "/usr/local/lib/python3.7/dist-packages/ipykernel_launcher.py:5: MatplotlibDeprecationWarning: Adding an axes using the same arguments as a previous axes currently reuses the earlier instance.  In a future version, a new instance will always be created and returned.  Meanwhile, this warning can be suppressed, and the future behavior ensured, by passing a unique label to each axes instance.\n",
            "  \"\"\"\n"
          ],
          "name": "stderr"
        },
        {
          "output_type": "display_data",
          "data": {
            "image/png": "[encoded data removed]",
            "text/plain": [
              "<Figure size 432x432 with 16 Axes>"
            ]
          },
          "metadata": {
            "tags": [],
            "needs_background": "light"
          }
        }
      ]
    },
    {
      "cell_type": "markdown",
      "metadata": {
        "id": "eARYa3OZexaC"
      },
      "source": [
        "## Exercises\n",
        "\n",
        "* Modify LeNet to work with ReLU instead of Tanh -> What is the impact on training time, final loss\n",
        "* We have observed over-fitting -> Use weight_decay in torch.optim to add L2 regularisation\n",
        "* Instead of CIFAR10, use the MNIST data available from `torchvision.datasets.MNIST`. Download and visualise MNIST data.\n",
        "* But importantly MNIST images have only 1 channel instead of 3 channels in the case of CIFAR10. Modify LeNet to work with MNIST. Train and find optimised test accuracy."
      ]
    },
    {
      "cell_type": "code",
      "metadata": {
        "id": "EnMyNqhVwrgr"
      },
      "source": [
        ""
      ],
      "execution_count": 47,
      "outputs": []
    }
  ]
}