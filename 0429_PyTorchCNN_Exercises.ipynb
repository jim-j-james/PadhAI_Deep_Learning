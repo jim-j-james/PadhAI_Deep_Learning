{
  "nbformat": 4,
  "nbformat_minor": 0,
  "metadata": {
    "colab": {
      "name": "0429_PyTorchCNN-Exercises.ipynb",
      "provenance": [],
      "collapsed_sections": [],
      "include_colab_link": true
    },
    "kernelspec": {
      "name": "python3",
      "display_name": "Python 3"
    },
    "accelerator": "GPU",
    "widgets": {
      "application/vnd.jupyter.widget-state+json": {
        "2ae6a82652cb4e85b9c3092e9f800186": {
          "model_module": "@jupyter-widgets/controls",
          "model_name": "HBoxModel",
          "state": {
            "_view_name": "HBoxView",
            "_dom_classes": [],
            "_model_name": "HBoxModel",
            "_view_module": "@jupyter-widgets/controls",
            "_model_module_version": "1.5.0",
            "_view_count": null,
            "_view_module_version": "1.5.0",
            "box_style": "",
            "layout": "IPY_MODEL_c8c96bd80397421d9c01570e6035c2e6",
            "_model_module": "@jupyter-widgets/controls",
            "children": [
              "IPY_MODEL_36960da681514a80a147e09be13f7c58",
              "IPY_MODEL_79258e3f19cb48acb7a1793a97a96783"
            ]
          }
        },
        "c8c96bd80397421d9c01570e6035c2e6": {
          "model_module": "@jupyter-widgets/base",
          "model_name": "LayoutModel",
          "state": {
            "_view_name": "LayoutView",
            "grid_template_rows": null,
            "right": null,
            "justify_content": null,
            "_view_module": "@jupyter-widgets/base",
            "overflow": null,
            "_model_module_version": "1.2.0",
            "_view_count": null,
            "flex_flow": null,
            "width": null,
            "min_width": null,
            "border": null,
            "align_items": null,
            "bottom": null,
            "_model_module": "@jupyter-widgets/base",
            "top": null,
            "grid_column": null,
            "overflow_y": null,
            "overflow_x": null,
            "grid_auto_flow": null,
            "grid_area": null,
            "grid_template_columns": null,
            "flex": null,
            "_model_name": "LayoutModel",
            "justify_items": null,
            "grid_row": null,
            "max_height": null,
            "align_content": null,
            "visibility": null,
            "align_self": null,
            "height": null,
            "min_height": null,
            "padding": null,
            "grid_auto_rows": null,
            "grid_gap": null,
            "max_width": null,
            "order": null,
            "_view_module_version": "1.2.0",
            "grid_template_areas": null,
            "object_position": null,
            "object_fit": null,
            "grid_auto_columns": null,
            "margin": null,
            "display": null,
            "left": null
          }
        },
        "36960da681514a80a147e09be13f7c58": {
          "model_module": "@jupyter-widgets/controls",
          "model_name": "FloatProgressModel",
          "state": {
            "_view_name": "ProgressView",
            "style": "IPY_MODEL_7720546f72ba4eec8d84bfe3739750dd",
            "_dom_classes": [],
            "description": "",
            "_model_name": "FloatProgressModel",
            "bar_style": "success",
            "max": 170498071,
            "_view_module": "@jupyter-widgets/controls",
            "_model_module_version": "1.5.0",
            "value": 170498071,
            "_view_count": null,
            "_view_module_version": "1.5.0",
            "orientation": "horizontal",
            "min": 0,
            "description_tooltip": null,
            "_model_module": "@jupyter-widgets/controls",
            "layout": "IPY_MODEL_d4fc2b6d98b944b08cd9153ca8cd5085"
          }
        },
        "79258e3f19cb48acb7a1793a97a96783": {
          "model_module": "@jupyter-widgets/controls",
          "model_name": "HTMLModel",
          "state": {
            "_view_name": "HTMLView",
            "style": "IPY_MODEL_4fa4fa3593184cfeb2f47a6492ffb67e",
            "_dom_classes": [],
            "description": "",
            "_model_name": "HTMLModel",
            "placeholder": "​",
            "_view_module": "@jupyter-widgets/controls",
            "_model_module_version": "1.5.0",
            "value": " 170499072/? [17:35&lt;00:00, 161474.25it/s]",
            "_view_count": null,
            "_view_module_version": "1.5.0",
            "description_tooltip": null,
            "_model_module": "@jupyter-widgets/controls",
            "layout": "IPY_MODEL_9b8efaa838b04e5894156964d536a726"
          }
        },
        "7720546f72ba4eec8d84bfe3739750dd": {
          "model_module": "@jupyter-widgets/controls",
          "model_name": "ProgressStyleModel",
          "state": {
            "_view_name": "StyleView",
            "_model_name": "ProgressStyleModel",
            "description_width": "initial",
            "_view_module": "@jupyter-widgets/base",
            "_model_module_version": "1.5.0",
            "_view_count": null,
            "_view_module_version": "1.2.0",
            "bar_color": null,
            "_model_module": "@jupyter-widgets/controls"
          }
        },
        "d4fc2b6d98b944b08cd9153ca8cd5085": {
          "model_module": "@jupyter-widgets/base",
          "model_name": "LayoutModel",
          "state": {
            "_view_name": "LayoutView",
            "grid_template_rows": null,
            "right": null,
            "justify_content": null,
            "_view_module": "@jupyter-widgets/base",
            "overflow": null,
            "_model_module_version": "1.2.0",
            "_view_count": null,
            "flex_flow": null,
            "width": null,
            "min_width": null,
            "border": null,
            "align_items": null,
            "bottom": null,
            "_model_module": "@jupyter-widgets/base",
            "top": null,
            "grid_column": null,
            "overflow_y": null,
            "overflow_x": null,
            "grid_auto_flow": null,
            "grid_area": null,
            "grid_template_columns": null,
            "flex": null,
            "_model_name": "LayoutModel",
            "justify_items": null,
            "grid_row": null,
            "max_height": null,
            "align_content": null,
            "visibility": null,
            "align_self": null,
            "height": null,
            "min_height": null,
            "padding": null,
            "grid_auto_rows": null,
            "grid_gap": null,
            "max_width": null,
            "order": null,
            "_view_module_version": "1.2.0",
            "grid_template_areas": null,
            "object_position": null,
            "object_fit": null,
            "grid_auto_columns": null,
            "margin": null,
            "display": null,
            "left": null
          }
        },
        "4fa4fa3593184cfeb2f47a6492ffb67e": {
          "model_module": "@jupyter-widgets/controls",
          "model_name": "DescriptionStyleModel",
          "state": {
            "_view_name": "StyleView",
            "_model_name": "DescriptionStyleModel",
            "description_width": "",
            "_view_module": "@jupyter-widgets/base",
            "_model_module_version": "1.5.0",
            "_view_count": null,
            "_view_module_version": "1.2.0",
            "_model_module": "@jupyter-widgets/controls"
          }
        },
        "9b8efaa838b04e5894156964d536a726": {
          "model_module": "@jupyter-widgets/base",
          "model_name": "LayoutModel",
          "state": {
            "_view_name": "LayoutView",
            "grid_template_rows": null,
            "right": null,
            "justify_content": null,
            "_view_module": "@jupyter-widgets/base",
            "overflow": null,
            "_model_module_version": "1.2.0",
            "_view_count": null,
            "flex_flow": null,
            "width": null,
            "min_width": null,
            "border": null,
            "align_items": null,
            "bottom": null,
            "_model_module": "@jupyter-widgets/base",
            "top": null,
            "grid_column": null,
            "overflow_y": null,
            "overflow_x": null,
            "grid_auto_flow": null,
            "grid_area": null,
            "grid_template_columns": null,
            "flex": null,
            "_model_name": "LayoutModel",
            "justify_items": null,
            "grid_row": null,
            "max_height": null,
            "align_content": null,
            "visibility": null,
            "align_self": null,
            "height": null,
            "min_height": null,
            "padding": null,
            "grid_auto_rows": null,
            "grid_gap": null,
            "max_width": null,
            "order": null,
            "_view_module_version": "1.2.0",
            "grid_template_areas": null,
            "object_position": null,
            "object_fit": null,
            "grid_auto_columns": null,
            "margin": null,
            "display": null,
            "left": null
          }
        },
        "42b55b3447e84c60b8229152fc12d5c9": {
          "model_module": "@jupyter-widgets/controls",
          "model_name": "HBoxModel",
          "state": {
            "_view_name": "HBoxView",
            "_dom_classes": [],
            "_model_name": "HBoxModel",
            "_view_module": "@jupyter-widgets/controls",
            "_model_module_version": "1.5.0",
            "_view_count": null,
            "_view_module_version": "1.5.0",
            "box_style": "",
            "layout": "IPY_MODEL_e253d3d2e7b3442baa3024e75b46f6df",
            "_model_module": "@jupyter-widgets/controls",
            "children": [
              "IPY_MODEL_abae896a65ee444389a06197f3798136",
              "IPY_MODEL_235cc533939c474d8de8f1055c4e68ba"
            ]
          }
        },
        "e253d3d2e7b3442baa3024e75b46f6df": {
          "model_module": "@jupyter-widgets/base",
          "model_name": "LayoutModel",
          "state": {
            "_view_name": "LayoutView",
            "grid_template_rows": null,
            "right": null,
            "justify_content": null,
            "_view_module": "@jupyter-widgets/base",
            "overflow": null,
            "_model_module_version": "1.2.0",
            "_view_count": null,
            "flex_flow": null,
            "width": null,
            "min_width": null,
            "border": null,
            "align_items": null,
            "bottom": null,
            "_model_module": "@jupyter-widgets/base",
            "top": null,
            "grid_column": null,
            "overflow_y": null,
            "overflow_x": null,
            "grid_auto_flow": null,
            "grid_area": null,
            "grid_template_columns": null,
            "flex": null,
            "_model_name": "LayoutModel",
            "justify_items": null,
            "grid_row": null,
            "max_height": null,
            "align_content": null,
            "visibility": null,
            "align_self": null,
            "height": null,
            "min_height": null,
            "padding": null,
            "grid_auto_rows": null,
            "grid_gap": null,
            "max_width": null,
            "order": null,
            "_view_module_version": "1.2.0",
            "grid_template_areas": null,
            "object_position": null,
            "object_fit": null,
            "grid_auto_columns": null,
            "margin": null,
            "display": null,
            "left": null
          }
        },
        "abae896a65ee444389a06197f3798136": {
          "model_module": "@jupyter-widgets/controls",
          "model_name": "FloatProgressModel",
          "state": {
            "_view_name": "ProgressView",
            "style": "IPY_MODEL_600f5627a84d4f589fa015a10921822e",
            "_dom_classes": [],
            "description": "",
            "_model_name": "FloatProgressModel",
            "bar_style": "success",
            "max": 9912422,
            "_view_module": "@jupyter-widgets/controls",
            "_model_module_version": "1.5.0",
            "value": 9912422,
            "_view_count": null,
            "_view_module_version": "1.5.0",
            "orientation": "horizontal",
            "min": 0,
            "description_tooltip": null,
            "_model_module": "@jupyter-widgets/controls",
            "layout": "IPY_MODEL_e598cd66d7794797914bd51548d60e8e"
          }
        },
        "235cc533939c474d8de8f1055c4e68ba": {
          "model_module": "@jupyter-widgets/controls",
          "model_name": "HTMLModel",
          "state": {
            "_view_name": "HTMLView",
            "style": "IPY_MODEL_072e60743834493992a3e15d6026e1cb",
            "_dom_classes": [],
            "description": "",
            "_model_name": "HTMLModel",
            "placeholder": "​",
            "_view_module": "@jupyter-widgets/controls",
            "_model_module_version": "1.5.0",
            "value": " 9913344/? [04:37&lt;00:00, 35693.03it/s]",
            "_view_count": null,
            "_view_module_version": "1.5.0",
            "description_tooltip": null,
            "_model_module": "@jupyter-widgets/controls",
            "layout": "IPY_MODEL_2d2e25b7ec374646998e0e9e3458cd9d"
          }
        },
        "600f5627a84d4f589fa015a10921822e": {
          "model_module": "@jupyter-widgets/controls",
          "model_name": "ProgressStyleModel",
          "state": {
            "_view_name": "StyleView",
            "_model_name": "ProgressStyleModel",
            "description_width": "initial",
            "_view_module": "@jupyter-widgets/base",
            "_model_module_version": "1.5.0",
            "_view_count": null,
            "_view_module_version": "1.2.0",
            "bar_color": null,
            "_model_module": "@jupyter-widgets/controls"
          }
        },
        "e598cd66d7794797914bd51548d60e8e": {
          "model_module": "@jupyter-widgets/base",
          "model_name": "LayoutModel",
          "state": {
            "_view_name": "LayoutView",
            "grid_template_rows": null,
            "right": null,
            "justify_content": null,
            "_view_module": "@jupyter-widgets/base",
            "overflow": null,
            "_model_module_version": "1.2.0",
            "_view_count": null,
            "flex_flow": null,
            "width": null,
            "min_width": null,
            "border": null,
            "align_items": null,
            "bottom": null,
            "_model_module": "@jupyter-widgets/base",
            "top": null,
            "grid_column": null,
            "overflow_y": null,
            "overflow_x": null,
            "grid_auto_flow": null,
            "grid_area": null,
            "grid_template_columns": null,
            "flex": null,
            "_model_name": "LayoutModel",
            "justify_items": null,
            "grid_row": null,
            "max_height": null,
            "align_content": null,
            "visibility": null,
            "align_self": null,
            "height": null,
            "min_height": null,
            "padding": null,
            "grid_auto_rows": null,
            "grid_gap": null,
            "max_width": null,
            "order": null,
            "_view_module_version": "1.2.0",
            "grid_template_areas": null,
            "object_position": null,
            "object_fit": null,
            "grid_auto_columns": null,
            "margin": null,
            "display": null,
            "left": null
          }
        },
        "072e60743834493992a3e15d6026e1cb": {
          "model_module": "@jupyter-widgets/controls",
          "model_name": "DescriptionStyleModel",
          "state": {
            "_view_name": "StyleView",
            "_model_name": "DescriptionStyleModel",
            "description_width": "",
            "_view_module": "@jupyter-widgets/base",
            "_model_module_version": "1.5.0",
            "_view_count": null,
            "_view_module_version": "1.2.0",
            "_model_module": "@jupyter-widgets/controls"
          }
        },
        "2d2e25b7ec374646998e0e9e3458cd9d": {
          "model_module": "@jupyter-widgets/base",
          "model_name": "LayoutModel",
          "state": {
            "_view_name": "LayoutView",
            "grid_template_rows": null,
            "right": null,
            "justify_content": null,
            "_view_module": "@jupyter-widgets/base",
            "overflow": null,
            "_model_module_version": "1.2.0",
            "_view_count": null,
            "flex_flow": null,
            "width": null,
            "min_width": null,
            "border": null,
            "align_items": null,
            "bottom": null,
            "_model_module": "@jupyter-widgets/base",
            "top": null,
            "grid_column": null,
            "overflow_y": null,
            "overflow_x": null,
            "grid_auto_flow": null,
            "grid_area": null,
            "grid_template_columns": null,
            "flex": null,
            "_model_name": "LayoutModel",
            "justify_items": null,
            "grid_row": null,
            "max_height": null,
            "align_content": null,
            "visibility": null,
            "align_self": null,
            "height": null,
            "min_height": null,
            "padding": null,
            "grid_auto_rows": null,
            "grid_gap": null,
            "max_width": null,
            "order": null,
            "_view_module_version": "1.2.0",
            "grid_template_areas": null,
            "object_position": null,
            "object_fit": null,
            "grid_auto_columns": null,
            "margin": null,
            "display": null,
            "left": null
          }
        },
        "8c1ad82d97294934891238aef973e000": {
          "model_module": "@jupyter-widgets/controls",
          "model_name": "HBoxModel",
          "state": {
            "_view_name": "HBoxView",
            "_dom_classes": [],
            "_model_name": "HBoxModel",
            "_view_module": "@jupyter-widgets/controls",
            "_model_module_version": "1.5.0",
            "_view_count": null,
            "_view_module_version": "1.5.0",
            "box_style": "",
            "layout": "IPY_MODEL_9f035f4bf3c346f2819cecfe9c9f965f",
            "_model_module": "@jupyter-widgets/controls",
            "children": [
              "IPY_MODEL_cf1c965580504aa688bec044d8ce354d",
              "IPY_MODEL_4657ed6fc0f746499a1f196ef5b94c56"
            ]
          }
        },
        "9f035f4bf3c346f2819cecfe9c9f965f": {
          "model_module": "@jupyter-widgets/base",
          "model_name": "LayoutModel",
          "state": {
            "_view_name": "LayoutView",
            "grid_template_rows": null,
            "right": null,
            "justify_content": null,
            "_view_module": "@jupyter-widgets/base",
            "overflow": null,
            "_model_module_version": "1.2.0",
            "_view_count": null,
            "flex_flow": null,
            "width": null,
            "min_width": null,
            "border": null,
            "align_items": null,
            "bottom": null,
            "_model_module": "@jupyter-widgets/base",
            "top": null,
            "grid_column": null,
            "overflow_y": null,
            "overflow_x": null,
            "grid_auto_flow": null,
            "grid_area": null,
            "grid_template_columns": null,
            "flex": null,
            "_model_name": "LayoutModel",
            "justify_items": null,
            "grid_row": null,
            "max_height": null,
            "align_content": null,
            "visibility": null,
            "align_self": null,
            "height": null,
            "min_height": null,
            "padding": null,
            "grid_auto_rows": null,
            "grid_gap": null,
            "max_width": null,
            "order": null,
            "_view_module_version": "1.2.0",
            "grid_template_areas": null,
            "object_position": null,
            "object_fit": null,
            "grid_auto_columns": null,
            "margin": null,
            "display": null,
            "left": null
          }
        },
        "cf1c965580504aa688bec044d8ce354d": {
          "model_module": "@jupyter-widgets/controls",
          "model_name": "FloatProgressModel",
          "state": {
            "_view_name": "ProgressView",
            "style": "IPY_MODEL_75d67dd39a234cbea0afb243257eb988",
            "_dom_classes": [],
            "description": "",
            "_model_name": "FloatProgressModel",
            "bar_style": "success",
            "max": 28881,
            "_view_module": "@jupyter-widgets/controls",
            "_model_module_version": "1.5.0",
            "value": 28881,
            "_view_count": null,
            "_view_module_version": "1.5.0",
            "orientation": "horizontal",
            "min": 0,
            "description_tooltip": null,
            "_model_module": "@jupyter-widgets/controls",
            "layout": "IPY_MODEL_347986d67bc14b8097bb8bbb6a854866"
          }
        },
        "4657ed6fc0f746499a1f196ef5b94c56": {
          "model_module": "@jupyter-widgets/controls",
          "model_name": "HTMLModel",
          "state": {
            "_view_name": "HTMLView",
            "style": "IPY_MODEL_f46d5b5f17894622b13ea5d7f4a43cff",
            "_dom_classes": [],
            "description": "",
            "_model_name": "HTMLModel",
            "placeholder": "​",
            "_view_module": "@jupyter-widgets/controls",
            "_model_module_version": "1.5.0",
            "value": " 29696/? [00:51&lt;00:00, 577.20it/s]",
            "_view_count": null,
            "_view_module_version": "1.5.0",
            "description_tooltip": null,
            "_model_module": "@jupyter-widgets/controls",
            "layout": "IPY_MODEL_cf875cc44cd04c179bbdaffabf64eca0"
          }
        },
        "75d67dd39a234cbea0afb243257eb988": {
          "model_module": "@jupyter-widgets/controls",
          "model_name": "ProgressStyleModel",
          "state": {
            "_view_name": "StyleView",
            "_model_name": "ProgressStyleModel",
            "description_width": "initial",
            "_view_module": "@jupyter-widgets/base",
            "_model_module_version": "1.5.0",
            "_view_count": null,
            "_view_module_version": "1.2.0",
            "bar_color": null,
            "_model_module": "@jupyter-widgets/controls"
          }
        },
        "347986d67bc14b8097bb8bbb6a854866": {
          "model_module": "@jupyter-widgets/base",
          "model_name": "LayoutModel",
          "state": {
            "_view_name": "LayoutView",
            "grid_template_rows": null,
            "right": null,
            "justify_content": null,
            "_view_module": "@jupyter-widgets/base",
            "overflow": null,
            "_model_module_version": "1.2.0",
            "_view_count": null,
            "flex_flow": null,
            "width": null,
            "min_width": null,
            "border": null,
            "align_items": null,
            "bottom": null,
            "_model_module": "@jupyter-widgets/base",
            "top": null,
            "grid_column": null,
            "overflow_y": null,
            "overflow_x": null,
            "grid_auto_flow": null,
            "grid_area": null,
            "grid_template_columns": null,
            "flex": null,
            "_model_name": "LayoutModel",
            "justify_items": null,
            "grid_row": null,
            "max_height": null,
            "align_content": null,
            "visibility": null,
            "align_self": null,
            "height": null,
            "min_height": null,
            "padding": null,
            "grid_auto_rows": null,
            "grid_gap": null,
            "max_width": null,
            "order": null,
            "_view_module_version": "1.2.0",
            "grid_template_areas": null,
            "object_position": null,
            "object_fit": null,
            "grid_auto_columns": null,
            "margin": null,
            "display": null,
            "left": null
          }
        },
        "f46d5b5f17894622b13ea5d7f4a43cff": {
          "model_module": "@jupyter-widgets/controls",
          "model_name": "DescriptionStyleModel",
          "state": {
            "_view_name": "StyleView",
            "_model_name": "DescriptionStyleModel",
            "description_width": "",
            "_view_module": "@jupyter-widgets/base",
            "_model_module_version": "1.5.0",
            "_view_count": null,
            "_view_module_version": "1.2.0",
            "_model_module": "@jupyter-widgets/controls"
          }
        },
        "cf875cc44cd04c179bbdaffabf64eca0": {
          "model_module": "@jupyter-widgets/base",
          "model_name": "LayoutModel",
          "state": {
            "_view_name": "LayoutView",
            "grid_template_rows": null,
            "right": null,
            "justify_content": null,
            "_view_module": "@jupyter-widgets/base",
            "overflow": null,
            "_model_module_version": "1.2.0",
            "_view_count": null,
            "flex_flow": null,
            "width": null,
            "min_width": null,
            "border": null,
            "align_items": null,
            "bottom": null,
            "_model_module": "@jupyter-widgets/base",
            "top": null,
            "grid_column": null,
            "overflow_y": null,
            "overflow_x": null,
            "grid_auto_flow": null,
            "grid_area": null,
            "grid_template_columns": null,
            "flex": null,
            "_model_name": "LayoutModel",
            "justify_items": null,
            "grid_row": null,
            "max_height": null,
            "align_content": null,
            "visibility": null,
            "align_self": null,
            "height": null,
            "min_height": null,
            "padding": null,
            "grid_auto_rows": null,
            "grid_gap": null,
            "max_width": null,
            "order": null,
            "_view_module_version": "1.2.0",
            "grid_template_areas": null,
            "object_position": null,
            "object_fit": null,
            "grid_auto_columns": null,
            "margin": null,
            "display": null,
            "left": null
          }
        },
        "d2c26054472d429fb918b01d0c2c941f": {
          "model_module": "@jupyter-widgets/controls",
          "model_name": "HBoxModel",
          "state": {
            "_view_name": "HBoxView",
            "_dom_classes": [],
            "_model_name": "HBoxModel",
            "_view_module": "@jupyter-widgets/controls",
            "_model_module_version": "1.5.0",
            "_view_count": null,
            "_view_module_version": "1.5.0",
            "box_style": "",
            "layout": "IPY_MODEL_b8f9bdec640e4300b41afe7bbe5540ba",
            "_model_module": "@jupyter-widgets/controls",
            "children": [
              "IPY_MODEL_db51a154378042669e23c3c163f9c870",
              "IPY_MODEL_eacd29c81b2d41b3997411c9d70b22ba"
            ]
          }
        },
        "b8f9bdec640e4300b41afe7bbe5540ba": {
          "model_module": "@jupyter-widgets/base",
          "model_name": "LayoutModel",
          "state": {
            "_view_name": "LayoutView",
            "grid_template_rows": null,
            "right": null,
            "justify_content": null,
            "_view_module": "@jupyter-widgets/base",
            "overflow": null,
            "_model_module_version": "1.2.0",
            "_view_count": null,
            "flex_flow": null,
            "width": null,
            "min_width": null,
            "border": null,
            "align_items": null,
            "bottom": null,
            "_model_module": "@jupyter-widgets/base",
            "top": null,
            "grid_column": null,
            "overflow_y": null,
            "overflow_x": null,
            "grid_auto_flow": null,
            "grid_area": null,
            "grid_template_columns": null,
            "flex": null,
            "_model_name": "LayoutModel",
            "justify_items": null,
            "grid_row": null,
            "max_height": null,
            "align_content": null,
            "visibility": null,
            "align_self": null,
            "height": null,
            "min_height": null,
            "padding": null,
            "grid_auto_rows": null,
            "grid_gap": null,
            "max_width": null,
            "order": null,
            "_view_module_version": "1.2.0",
            "grid_template_areas": null,
            "object_position": null,
            "object_fit": null,
            "grid_auto_columns": null,
            "margin": null,
            "display": null,
            "left": null
          }
        },
        "db51a154378042669e23c3c163f9c870": {
          "model_module": "@jupyter-widgets/controls",
          "model_name": "FloatProgressModel",
          "state": {
            "_view_name": "ProgressView",
            "style": "IPY_MODEL_f7bb4cbfc36944098f9eb440b6497613",
            "_dom_classes": [],
            "description": "",
            "_model_name": "FloatProgressModel",
            "bar_style": "success",
            "max": 1648877,
            "_view_module": "@jupyter-widgets/controls",
            "_model_module_version": "1.5.0",
            "value": 1648877,
            "_view_count": null,
            "_view_module_version": "1.5.0",
            "orientation": "horizontal",
            "min": 0,
            "description_tooltip": null,
            "_model_module": "@jupyter-widgets/controls",
            "layout": "IPY_MODEL_c106ce95b4734c8c9e5728e9936627ec"
          }
        },
        "eacd29c81b2d41b3997411c9d70b22ba": {
          "model_module": "@jupyter-widgets/controls",
          "model_name": "HTMLModel",
          "state": {
            "_view_name": "HTMLView",
            "style": "IPY_MODEL_7324f314375a4a9491f6b7934ceafa8d",
            "_dom_classes": [],
            "description": "",
            "_model_name": "HTMLModel",
            "placeholder": "​",
            "_view_module": "@jupyter-widgets/controls",
            "_model_module_version": "1.5.0",
            "value": " 1649664/? [00:51&lt;00:00, 32252.26it/s]",
            "_view_count": null,
            "_view_module_version": "1.5.0",
            "description_tooltip": null,
            "_model_module": "@jupyter-widgets/controls",
            "layout": "IPY_MODEL_1af82cc0c8b443adaa330f7131790440"
          }
        },
        "f7bb4cbfc36944098f9eb440b6497613": {
          "model_module": "@jupyter-widgets/controls",
          "model_name": "ProgressStyleModel",
          "state": {
            "_view_name": "StyleView",
            "_model_name": "ProgressStyleModel",
            "description_width": "initial",
            "_view_module": "@jupyter-widgets/base",
            "_model_module_version": "1.5.0",
            "_view_count": null,
            "_view_module_version": "1.2.0",
            "bar_color": null,
            "_model_module": "@jupyter-widgets/controls"
          }
        },
        "c106ce95b4734c8c9e5728e9936627ec": {
          "model_module": "@jupyter-widgets/base",
          "model_name": "LayoutModel",
          "state": {
            "_view_name": "LayoutView",
            "grid_template_rows": null,
            "right": null,
            "justify_content": null,
            "_view_module": "@jupyter-widgets/base",
            "overflow": null,
            "_model_module_version": "1.2.0",
            "_view_count": null,
            "flex_flow": null,
            "width": null,
            "min_width": null,
            "border": null,
            "align_items": null,
            "bottom": null,
            "_model_module": "@jupyter-widgets/base",
            "top": null,
            "grid_column": null,
            "overflow_y": null,
            "overflow_x": null,
            "grid_auto_flow": null,
            "grid_area": null,
            "grid_template_columns": null,
            "flex": null,
            "_model_name": "LayoutModel",
            "justify_items": null,
            "grid_row": null,
            "max_height": null,
            "align_content": null,
            "visibility": null,
            "align_self": null,
            "height": null,
            "min_height": null,
            "padding": null,
            "grid_auto_rows": null,
            "grid_gap": null,
            "max_width": null,
            "order": null,
            "_view_module_version": "1.2.0",
            "grid_template_areas": null,
            "object_position": null,
            "object_fit": null,
            "grid_auto_columns": null,
            "margin": null,
            "display": null,
            "left": null
          }
        },
        "7324f314375a4a9491f6b7934ceafa8d": {
          "model_module": "@jupyter-widgets/controls",
          "model_name": "DescriptionStyleModel",
          "state": {
            "_view_name": "StyleView",
            "_model_name": "DescriptionStyleModel",
            "description_width": "",
            "_view_module": "@jupyter-widgets/base",
            "_model_module_version": "1.5.0",
            "_view_count": null,
            "_view_module_version": "1.2.0",
            "_model_module": "@jupyter-widgets/controls"
          }
        },
        "1af82cc0c8b443adaa330f7131790440": {
          "model_module": "@jupyter-widgets/base",
          "model_name": "LayoutModel",
          "state": {
            "_view_name": "LayoutView",
            "grid_template_rows": null,
            "right": null,
            "justify_content": null,
            "_view_module": "@jupyter-widgets/base",
            "overflow": null,
            "_model_module_version": "1.2.0",
            "_view_count": null,
            "flex_flow": null,
            "width": null,
            "min_width": null,
            "border": null,
            "align_items": null,
            "bottom": null,
            "_model_module": "@jupyter-widgets/base",
            "top": null,
            "grid_column": null,
            "overflow_y": null,
            "overflow_x": null,
            "grid_auto_flow": null,
            "grid_area": null,
            "grid_template_columns": null,
            "flex": null,
            "_model_name": "LayoutModel",
            "justify_items": null,
            "grid_row": null,
            "max_height": null,
            "align_content": null,
            "visibility": null,
            "align_self": null,
            "height": null,
            "min_height": null,
            "padding": null,
            "grid_auto_rows": null,
            "grid_gap": null,
            "max_width": null,
            "order": null,
            "_view_module_version": "1.2.0",
            "grid_template_areas": null,
            "object_position": null,
            "object_fit": null,
            "grid_auto_columns": null,
            "margin": null,
            "display": null,
            "left": null
          }
        },
        "764de4eb07c04f38a6ad691e57ca0138": {
          "model_module": "@jupyter-widgets/controls",
          "model_name": "HBoxModel",
          "state": {
            "_view_name": "HBoxView",
            "_dom_classes": [],
            "_model_name": "HBoxModel",
            "_view_module": "@jupyter-widgets/controls",
            "_model_module_version": "1.5.0",
            "_view_count": null,
            "_view_module_version": "1.5.0",
            "box_style": "",
            "layout": "IPY_MODEL_f798b86bcca54c84a7a7c887ee6a9069",
            "_model_module": "@jupyter-widgets/controls",
            "children": [
              "IPY_MODEL_77fba4cea79248469ce38cda5cf827e0",
              "IPY_MODEL_f7288cf9c660471dba53408ac81389a4"
            ]
          }
        },
        "f798b86bcca54c84a7a7c887ee6a9069": {
          "model_module": "@jupyter-widgets/base",
          "model_name": "LayoutModel",
          "state": {
            "_view_name": "LayoutView",
            "grid_template_rows": null,
            "right": null,
            "justify_content": null,
            "_view_module": "@jupyter-widgets/base",
            "overflow": null,
            "_model_module_version": "1.2.0",
            "_view_count": null,
            "flex_flow": null,
            "width": null,
            "min_width": null,
            "border": null,
            "align_items": null,
            "bottom": null,
            "_model_module": "@jupyter-widgets/base",
            "top": null,
            "grid_column": null,
            "overflow_y": null,
            "overflow_x": null,
            "grid_auto_flow": null,
            "grid_area": null,
            "grid_template_columns": null,
            "flex": null,
            "_model_name": "LayoutModel",
            "justify_items": null,
            "grid_row": null,
            "max_height": null,
            "align_content": null,
            "visibility": null,
            "align_self": null,
            "height": null,
            "min_height": null,
            "padding": null,
            "grid_auto_rows": null,
            "grid_gap": null,
            "max_width": null,
            "order": null,
            "_view_module_version": "1.2.0",
            "grid_template_areas": null,
            "object_position": null,
            "object_fit": null,
            "grid_auto_columns": null,
            "margin": null,
            "display": null,
            "left": null
          }
        },
        "77fba4cea79248469ce38cda5cf827e0": {
          "model_module": "@jupyter-widgets/controls",
          "model_name": "FloatProgressModel",
          "state": {
            "_view_name": "ProgressView",
            "style": "IPY_MODEL_6ea112a433dc425a9692489157b405e7",
            "_dom_classes": [],
            "description": "",
            "_model_name": "FloatProgressModel",
            "bar_style": "success",
            "max": 4542,
            "_view_module": "@jupyter-widgets/controls",
            "_model_module_version": "1.5.0",
            "value": 4542,
            "_view_count": null,
            "_view_module_version": "1.5.0",
            "orientation": "horizontal",
            "min": 0,
            "description_tooltip": null,
            "_model_module": "@jupyter-widgets/controls",
            "layout": "IPY_MODEL_7e02f77bcda941f197e1d56b4097b916"
          }
        },
        "f7288cf9c660471dba53408ac81389a4": {
          "model_module": "@jupyter-widgets/controls",
          "model_name": "HTMLModel",
          "state": {
            "_view_name": "HTMLView",
            "style": "IPY_MODEL_cb49a55d3c0e47759187f878c065bd5b",
            "_dom_classes": [],
            "description": "",
            "_model_name": "HTMLModel",
            "placeholder": "​",
            "_view_module": "@jupyter-widgets/controls",
            "_model_module_version": "1.5.0",
            "value": " 5120/? [00:00&lt;00:00, 18757.22it/s]",
            "_view_count": null,
            "_view_module_version": "1.5.0",
            "description_tooltip": null,
            "_model_module": "@jupyter-widgets/controls",
            "layout": "IPY_MODEL_f3c620a9ae4e4c878ae918c0392ddb0b"
          }
        },
        "6ea112a433dc425a9692489157b405e7": {
          "model_module": "@jupyter-widgets/controls",
          "model_name": "ProgressStyleModel",
          "state": {
            "_view_name": "StyleView",
            "_model_name": "ProgressStyleModel",
            "description_width": "initial",
            "_view_module": "@jupyter-widgets/base",
            "_model_module_version": "1.5.0",
            "_view_count": null,
            "_view_module_version": "1.2.0",
            "bar_color": null,
            "_model_module": "@jupyter-widgets/controls"
          }
        },
        "7e02f77bcda941f197e1d56b4097b916": {
          "model_module": "@jupyter-widgets/base",
          "model_name": "LayoutModel",
          "state": {
            "_view_name": "LayoutView",
            "grid_template_rows": null,
            "right": null,
            "justify_content": null,
            "_view_module": "@jupyter-widgets/base",
            "overflow": null,
            "_model_module_version": "1.2.0",
            "_view_count": null,
            "flex_flow": null,
            "width": null,
            "min_width": null,
            "border": null,
            "align_items": null,
            "bottom": null,
            "_model_module": "@jupyter-widgets/base",
            "top": null,
            "grid_column": null,
            "overflow_y": null,
            "overflow_x": null,
            "grid_auto_flow": null,
            "grid_area": null,
            "grid_template_columns": null,
            "flex": null,
            "_model_name": "LayoutModel",
            "justify_items": null,
            "grid_row": null,
            "max_height": null,
            "align_content": null,
            "visibility": null,
            "align_self": null,
            "height": null,
            "min_height": null,
            "padding": null,
            "grid_auto_rows": null,
            "grid_gap": null,
            "max_width": null,
            "order": null,
            "_view_module_version": "1.2.0",
            "grid_template_areas": null,
            "object_position": null,
            "object_fit": null,
            "grid_auto_columns": null,
            "margin": null,
            "display": null,
            "left": null
          }
        },
        "cb49a55d3c0e47759187f878c065bd5b": {
          "model_module": "@jupyter-widgets/controls",
          "model_name": "DescriptionStyleModel",
          "state": {
            "_view_name": "StyleView",
            "_model_name": "DescriptionStyleModel",
            "description_width": "",
            "_view_module": "@jupyter-widgets/base",
            "_model_module_version": "1.5.0",
            "_view_count": null,
            "_view_module_version": "1.2.0",
            "_model_module": "@jupyter-widgets/controls"
          }
        },
        "f3c620a9ae4e4c878ae918c0392ddb0b": {
          "model_module": "@jupyter-widgets/base",
          "model_name": "LayoutModel",
          "state": {
            "_view_name": "LayoutView",
            "grid_template_rows": null,
            "right": null,
            "justify_content": null,
            "_view_module": "@jupyter-widgets/base",
            "overflow": null,
            "_model_module_version": "1.2.0",
            "_view_count": null,
            "flex_flow": null,
            "width": null,
            "min_width": null,
            "border": null,
            "align_items": null,
            "bottom": null,
            "_model_module": "@jupyter-widgets/base",
            "top": null,
            "grid_column": null,
            "overflow_y": null,
            "overflow_x": null,
            "grid_auto_flow": null,
            "grid_area": null,
            "grid_template_columns": null,
            "flex": null,
            "_model_name": "LayoutModel",
            "justify_items": null,
            "grid_row": null,
            "max_height": null,
            "align_content": null,
            "visibility": null,
            "align_self": null,
            "height": null,
            "min_height": null,
            "padding": null,
            "grid_auto_rows": null,
            "grid_gap": null,
            "max_width": null,
            "order": null,
            "_view_module_version": "1.2.0",
            "grid_template_areas": null,
            "object_position": null,
            "object_fit": null,
            "grid_auto_columns": null,
            "margin": null,
            "display": null,
            "left": null
          }
        }
      }
    }
  },
  "cells": [
    {
      "cell_type": "markdown",
      "metadata": {
        "id": "view-in-github",
        "colab_type": "text"
      },
      "source": [
        "<a href=\"https://colab.research.google.com/github/jim-j-james/PadhAI_Deep_Learning/blob/main/0429_PyTorchCNN_Exercises.ipynb\" target=\"_parent\"><img src=\"https://colab.research.google.com/assets/colab-badge.svg\" alt=\"Open In Colab\"/></a>"
      ]
    },
    {
      "cell_type": "markdown",
      "metadata": {
        "id": "6yY-u1fMO3se"
      },
      "source": [
        "## Outline\n",
        "\n",
        "* Downloading dataset (CIFAR10)\n",
        "* `Dataloader` in `torch.utils`\n",
        "* Visualising images\n",
        "* Single and multiple convolutional layers\n",
        "* LeNet\n",
        "* Training LeNet\n",
        "* Training on GPU\n",
        "* Simple visualisation\n",
        "* Exercises"
      ]
    },
    {
      "cell_type": "code",
      "metadata": {
        "id": "ebTDFe6qZOS6"
      },
      "source": [
        "#Import the relevent libraries\n",
        "import torch\n",
        "import matplotlib.pyplot as plt\n",
        "import numpy as np\n",
        "import torch.nn as nn\n",
        "import torchvision\n",
        "import torchvision.transforms as transforms\n",
        "import torch.optim as optim"
      ],
      "execution_count": 1,
      "outputs": []
    },
    {
      "cell_type": "markdown",
      "metadata": {
        "id": "eARYa3OZexaC"
      },
      "source": [
        "## Exercises\n",
        "\n",
        "* Modify LeNet to work with ReLU instead of Tanh -> What is the impact on training time, final loss\n",
        "* We have observed over-fitting -> Use weight_decay in torch.optim to add L2 regularisation\n",
        "* Instead of CIFAR10, use the MNIST data available from `torchvision.datasets.MNIST`. Download and visualise MNIST data.\n",
        "* But importantly MNIST images have only 1 channel instead of 3 channels in the case of CIFAR10. Modify LeNet to work with MNIST. Train and find optimised test accuracy."
      ]
    },
    {
      "cell_type": "markdown",
      "metadata": {
        "id": "mlSFCA28sqGC"
      },
      "source": [
        "# Training LeNet with ReLU"
      ]
    },
    {
      "cell_type": "code",
      "metadata": {
        "id": "EnMyNqhVwrgr"
      },
      "source": [
        "# Modify LeNet to work with ReLU instead of Tanh -> What is the impact on training time, final loss"
      ],
      "execution_count": 2,
      "outputs": []
    },
    {
      "cell_type": "code",
      "metadata": {
        "id": "qp_eeoFWO6Po"
      },
      "source": [
        "class LeNet_v1(nn.Module):\n",
        "    def __init__(self): \n",
        "        super(LeNet_v1, self).__init__()\n",
        "        self.cnn_model = nn.Sequential(\n",
        "            nn.Conv2d(3, 6, 5),         # (N, 3, 32, 32) -> (N,  6, 28, 28)\n",
        "            nn.ReLU(),\n",
        "            nn.AvgPool2d(2, stride=2),  # (N, 6, 28, 28) -> (N,  6, 14, 14)\n",
        "            nn.Conv2d(6, 16, 5),        # (N, 6, 14, 14) -> (N, 16, 10, 10)  \n",
        "            nn.ReLU(),\n",
        "            nn.AvgPool2d(2, stride=2)   # (N,16, 10, 10) -> (N, 16, 5, 5)\n",
        "        )\n",
        "        self.fc_model = nn.Sequential(\n",
        "            nn.Linear(400,120),         # (N, 400) -> (N, 120)\n",
        "            nn.ReLU(),\n",
        "            nn.Linear(120,84),          # (N, 120) -> (N, 84)\n",
        "            nn.ReLU(),\n",
        "            nn.Linear(84,10)            # (N, 84)  -> (N, 10)\n",
        "        )\n",
        "        \n",
        "    def forward(self, x):\n",
        "        x = self.cnn_model(x)\n",
        "        x = x.view(x.size(0), -1)\n",
        "        x = self.fc_model(x)\n",
        "        return x"
      ],
      "execution_count": 3,
      "outputs": []
    },
    {
      "cell_type": "code",
      "metadata": {
        "id": "3RgOXSvGQIGR",
        "colab": {
          "base_uri": "https://localhost:8080/",
          "height": 113,
          "referenced_widgets": [
            "2ae6a82652cb4e85b9c3092e9f800186",
            "c8c96bd80397421d9c01570e6035c2e6",
            "36960da681514a80a147e09be13f7c58",
            "79258e3f19cb48acb7a1793a97a96783",
            "7720546f72ba4eec8d84bfe3739750dd",
            "d4fc2b6d98b944b08cd9153ca8cd5085",
            "4fa4fa3593184cfeb2f47a6492ffb67e",
            "9b8efaa838b04e5894156964d536a726"
          ]
        },
        "outputId": "93a0f6ba-e3b8-4101-ce29-281d318ebefb"
      },
      "source": [
        "#The batch size is taken as 128 as a power of 2 as GPU's work best on batc sizes with powere of 2\n",
        "batch_size = 128\n",
        "trainset = torchvision.datasets.CIFAR10(root='./data', train=True, download=True, transform=transforms.ToTensor())\n",
        "trainloader = torch.utils.data.DataLoader(trainset, batch_size=batch_size, shuffle=True)\n",
        "testset = torchvision.datasets.CIFAR10(root='./data', train=False, download=True, transform=transforms.ToTensor())\n",
        "testloader = torch.utils.data.DataLoader(testset, batch_size=batch_size, shuffle=False)"
      ],
      "execution_count": 4,
      "outputs": [
        {
          "output_type": "stream",
          "text": [
            "Downloading https://www.cs.toronto.edu/~kriz/cifar-10-python.tar.gz to ./data/cifar-10-python.tar.gz\n"
          ],
          "name": "stdout"
        },
        {
          "output_type": "display_data",
          "data": {
            "application/vnd.jupyter.widget-view+json": {
              "model_id": "2ae6a82652cb4e85b9c3092e9f800186",
              "version_minor": 0,
              "version_major": 2
            },
            "text/plain": [
              "HBox(children=(FloatProgress(value=0.0, max=170498071.0), HTML(value='')))"
            ]
          },
          "metadata": {
            "tags": []
          }
        },
        {
          "output_type": "stream",
          "text": [
            "\n",
            "Extracting ./data/cifar-10-python.tar.gz to ./data\n",
            "Files already downloaded and verified\n"
          ],
          "name": "stdout"
        }
      ]
    },
    {
      "cell_type": "code",
      "metadata": {
        "id": "p2p43FsAP1cV",
        "colab": {
          "base_uri": "https://localhost:8080/"
        },
        "outputId": "a0308aaa-233d-4574-b943-37ec546ade2b"
      },
      "source": [
        "#Run the model on GPU for comparable results\n",
        "device = torch.device(\"cuda:0\" if torch.cuda.is_available() else \"cpu\")\n",
        "print(device)"
      ],
      "execution_count": 5,
      "outputs": [
        {
          "output_type": "stream",
          "text": [
            "cuda:0\n"
          ],
          "name": "stdout"
        }
      ]
    },
    {
      "cell_type": "code",
      "metadata": {
        "id": "fe7W9kegP47B"
      },
      "source": [
        "def evaluation(dataloader):\n",
        "    total, correct = 0, 0\n",
        "    for data in dataloader:\n",
        "        inputs, labels = data\n",
        "        inputs, labels = inputs.to(device), labels.to(device)\n",
        "        outputs = net(inputs)\n",
        "        _, pred = torch.max(outputs.data, 1)\n",
        "        total += labels.size(0)\n",
        "        correct += (pred == labels).sum().item()\n",
        "    return 100 * correct / total"
      ],
      "execution_count": 6,
      "outputs": []
    },
    {
      "cell_type": "code",
      "metadata": {
        "id": "5D9msj7NP7iN"
      },
      "source": [
        "net = LeNet_v1().to(device)\n",
        "loss_fn = nn.CrossEntropyLoss()\n",
        "#With out L2 Regularisation\n",
        "#opt = optim.Adam(net.parameters())\n",
        "#opt = optim.Adam(net.parameters(),lr=0.001)\n",
        "#With L2 Regularisation\n",
        "opt = optim.Adam(net.parameters(),lr=0.01,weight_decay=0.001)"
      ],
      "execution_count": 7,
      "outputs": []
    },
    {
      "cell_type": "code",
      "metadata": {
        "id": "KzBLAtCgQAUk",
        "colab": {
          "base_uri": "https://localhost:8080/",
          "height": 1000
        },
        "outputId": "0ee94d65-3249-4770-dabb-dc0141941705"
      },
      "source": [
        "%%time\n",
        "loss_arr = []\n",
        "loss_epoch_arr = []\n",
        "max_epochs = 100\n",
        "\n",
        "for epoch in range(max_epochs):\n",
        "\n",
        "    for i, data in enumerate(trainloader, 0):\n",
        "\n",
        "        inputs, labels = data\n",
        "        inputs, labels = inputs.to(device), labels.to(device)\n",
        "\n",
        "        opt.zero_grad()\n",
        "\n",
        "        outputs = net(inputs)\n",
        "        loss = loss_fn(outputs, labels)\n",
        "        loss.backward()\n",
        "        opt.step()\n",
        "        loss_arr.append(loss.item())\n",
        "        \n",
        "    loss_epoch_arr.append(loss.item())\n",
        "\n",
        "        \n",
        "    print('Epoch: %d/%d, Test acc: %0.2f, Train acc: %0.2f' % (epoch, max_epochs, evaluation(testloader), evaluation(trainloader)))\n",
        "\n",
        "plt.plot(loss_epoch_arr)\n",
        "plt.show()"
      ],
      "execution_count": 8,
      "outputs": [
        {
          "output_type": "stream",
          "text": [
            "Epoch: 0/100, Test acc: 37.71, Train acc: 37.84\n",
            "Epoch: 1/100, Test acc: 40.17, Train acc: 41.25\n",
            "Epoch: 2/100, Test acc: 41.91, Train acc: 41.93\n",
            "Epoch: 3/100, Test acc: 44.50, Train acc: 44.92\n",
            "Epoch: 4/100, Test acc: 43.35, Train acc: 44.56\n",
            "Epoch: 5/100, Test acc: 44.62, Train acc: 45.94\n",
            "Epoch: 6/100, Test acc: 46.62, Train acc: 47.30\n",
            "Epoch: 7/100, Test acc: 47.13, Train acc: 48.04\n",
            "Epoch: 8/100, Test acc: 46.28, Train acc: 47.98\n",
            "Epoch: 9/100, Test acc: 46.89, Train acc: 47.84\n",
            "Epoch: 10/100, Test acc: 48.42, Train acc: 50.27\n",
            "Epoch: 11/100, Test acc: 48.84, Train acc: 50.62\n",
            "Epoch: 12/100, Test acc: 48.96, Train acc: 50.18\n",
            "Epoch: 13/100, Test acc: 49.23, Train acc: 50.06\n",
            "Epoch: 14/100, Test acc: 49.89, Train acc: 51.26\n",
            "Epoch: 15/100, Test acc: 50.77, Train acc: 51.95\n",
            "Epoch: 16/100, Test acc: 50.21, Train acc: 52.13\n",
            "Epoch: 17/100, Test acc: 51.00, Train acc: 52.90\n",
            "Epoch: 18/100, Test acc: 48.96, Train acc: 50.49\n",
            "Epoch: 19/100, Test acc: 50.99, Train acc: 52.44\n",
            "Epoch: 20/100, Test acc: 51.18, Train acc: 52.20\n",
            "Epoch: 21/100, Test acc: 50.40, Train acc: 51.77\n",
            "Epoch: 22/100, Test acc: 49.49, Train acc: 50.88\n",
            "Epoch: 23/100, Test acc: 52.54, Train acc: 54.33\n",
            "Epoch: 24/100, Test acc: 52.09, Train acc: 53.65\n",
            "Epoch: 25/100, Test acc: 51.65, Train acc: 53.03\n",
            "Epoch: 26/100, Test acc: 51.67, Train acc: 52.88\n",
            "Epoch: 27/100, Test acc: 53.37, Train acc: 54.64\n",
            "Epoch: 28/100, Test acc: 52.39, Train acc: 53.36\n",
            "Epoch: 29/100, Test acc: 52.82, Train acc: 54.56\n",
            "Epoch: 30/100, Test acc: 50.74, Train acc: 52.81\n",
            "Epoch: 31/100, Test acc: 51.49, Train acc: 53.61\n",
            "Epoch: 32/100, Test acc: 51.89, Train acc: 53.07\n",
            "Epoch: 33/100, Test acc: 52.90, Train acc: 54.95\n",
            "Epoch: 34/100, Test acc: 51.20, Train acc: 52.44\n",
            "Epoch: 35/100, Test acc: 48.62, Train acc: 50.66\n",
            "Epoch: 36/100, Test acc: 51.57, Train acc: 53.28\n",
            "Epoch: 37/100, Test acc: 53.06, Train acc: 55.93\n",
            "Epoch: 38/100, Test acc: 50.84, Train acc: 52.03\n",
            "Epoch: 39/100, Test acc: 49.90, Train acc: 51.89\n",
            "Epoch: 40/100, Test acc: 54.22, Train acc: 56.16\n",
            "Epoch: 41/100, Test acc: 53.96, Train acc: 56.17\n",
            "Epoch: 42/100, Test acc: 53.07, Train acc: 55.49\n",
            "Epoch: 43/100, Test acc: 54.74, Train acc: 56.54\n",
            "Epoch: 44/100, Test acc: 51.97, Train acc: 53.63\n",
            "Epoch: 45/100, Test acc: 41.41, Train acc: 41.77\n",
            "Epoch: 46/100, Test acc: 52.56, Train acc: 54.60\n",
            "Epoch: 47/100, Test acc: 53.85, Train acc: 56.08\n",
            "Epoch: 48/100, Test acc: 54.20, Train acc: 56.53\n",
            "Epoch: 49/100, Test acc: 52.80, Train acc: 54.45\n",
            "Epoch: 50/100, Test acc: 52.05, Train acc: 54.28\n",
            "Epoch: 51/100, Test acc: 52.62, Train acc: 54.67\n",
            "Epoch: 52/100, Test acc: 52.23, Train acc: 53.82\n",
            "Epoch: 53/100, Test acc: 49.71, Train acc: 50.76\n",
            "Epoch: 54/100, Test acc: 53.41, Train acc: 55.02\n",
            "Epoch: 55/100, Test acc: 51.62, Train acc: 53.50\n",
            "Epoch: 56/100, Test acc: 54.46, Train acc: 56.49\n",
            "Epoch: 57/100, Test acc: 53.35, Train acc: 55.95\n",
            "Epoch: 58/100, Test acc: 53.53, Train acc: 55.45\n",
            "Epoch: 59/100, Test acc: 52.57, Train acc: 54.64\n",
            "Epoch: 60/100, Test acc: 54.24, Train acc: 56.62\n",
            "Epoch: 61/100, Test acc: 53.38, Train acc: 55.97\n",
            "Epoch: 62/100, Test acc: 54.18, Train acc: 56.07\n",
            "Epoch: 63/100, Test acc: 52.25, Train acc: 53.83\n",
            "Epoch: 64/100, Test acc: 52.33, Train acc: 53.90\n",
            "Epoch: 65/100, Test acc: 52.31, Train acc: 54.27\n",
            "Epoch: 66/100, Test acc: 51.61, Train acc: 53.84\n",
            "Epoch: 67/100, Test acc: 50.92, Train acc: 52.47\n",
            "Epoch: 68/100, Test acc: 54.22, Train acc: 56.08\n",
            "Epoch: 69/100, Test acc: 52.92, Train acc: 54.95\n",
            "Epoch: 70/100, Test acc: 52.18, Train acc: 54.35\n",
            "Epoch: 71/100, Test acc: 50.92, Train acc: 52.95\n",
            "Epoch: 72/100, Test acc: 46.61, Train acc: 47.59\n",
            "Epoch: 73/100, Test acc: 53.65, Train acc: 56.01\n",
            "Epoch: 74/100, Test acc: 52.16, Train acc: 54.66\n",
            "Epoch: 75/100, Test acc: 54.75, Train acc: 56.37\n",
            "Epoch: 76/100, Test acc: 53.53, Train acc: 54.89\n",
            "Epoch: 77/100, Test acc: 55.18, Train acc: 57.48\n",
            "Epoch: 78/100, Test acc: 53.01, Train acc: 54.81\n",
            "Epoch: 79/100, Test acc: 53.45, Train acc: 55.98\n",
            "Epoch: 80/100, Test acc: 51.77, Train acc: 53.85\n",
            "Epoch: 81/100, Test acc: 53.09, Train acc: 54.52\n",
            "Epoch: 82/100, Test acc: 50.80, Train acc: 53.02\n",
            "Epoch: 83/100, Test acc: 52.75, Train acc: 54.46\n",
            "Epoch: 84/100, Test acc: 54.11, Train acc: 56.00\n",
            "Epoch: 85/100, Test acc: 51.52, Train acc: 53.62\n",
            "Epoch: 86/100, Test acc: 54.07, Train acc: 55.66\n",
            "Epoch: 87/100, Test acc: 51.65, Train acc: 53.65\n",
            "Epoch: 88/100, Test acc: 54.55, Train acc: 56.57\n",
            "Epoch: 89/100, Test acc: 50.07, Train acc: 51.40\n",
            "Epoch: 90/100, Test acc: 55.02, Train acc: 56.85\n",
            "Epoch: 91/100, Test acc: 55.21, Train acc: 57.10\n",
            "Epoch: 92/100, Test acc: 53.53, Train acc: 55.32\n",
            "Epoch: 93/100, Test acc: 53.96, Train acc: 55.10\n",
            "Epoch: 94/100, Test acc: 54.41, Train acc: 55.91\n",
            "Epoch: 95/100, Test acc: 53.32, Train acc: 55.51\n",
            "Epoch: 96/100, Test acc: 54.05, Train acc: 55.69\n",
            "Epoch: 97/100, Test acc: 54.64, Train acc: 56.69\n",
            "Epoch: 98/100, Test acc: 55.73, Train acc: 57.06\n",
            "Epoch: 99/100, Test acc: 54.61, Train acc: 56.43\n"
          ],
          "name": "stdout"
        },
        {
          "output_type": "display_data",
          "data": {
            "image/png": "[encoded data removed]",
            "text/plain": [
              "<Figure size 432x288 with 1 Axes>"
            ]
          },
          "metadata": {
            "tags": [],
            "needs_background": "light"
          }
        },
        {
          "output_type": "stream",
          "text": [
            "CPU times: user 17min 16s, sys: 4.94 s, total: 17min 21s\n",
            "Wall time: 17min 19s\n"
          ],
          "name": "stdout"
        }
      ]
    },
    {
      "cell_type": "code",
      "metadata": {
        "id": "T2HpN14mwaXb",
        "colab": {
          "base_uri": "https://localhost:8080/",
          "height": 67
        },
        "outputId": "c10b203c-c3b8-4129-d19d-830419399791"
      },
      "source": [
        "#w/o regularisation test acc is flattening/reducing and train accuracy is going up i.e. trin erro going down test error going up\n",
        "'''\n",
        "Epoch: 0/15, Test acc: 41.10, Train acc: 40.77\n",
        "Epoch: 1/15, Test acc: 43.90, Train acc: 44.02\n",
        "Epoch: 2/15, Test acc: 48.01, Train acc: 48.32\n",
        "Epoch: 3/15, Test acc: 48.21, Train acc: 49.00\n",
        "Epoch: 4/15, Test acc: 51.09, Train acc: 52.10\n",
        "Epoch: 5/15, Test acc: 52.90, Train acc: 54.54\n",
        "Epoch: 6/15, Test acc: 53.91, Train acc: 55.91\n",
        "Epoch: 7/15, Test acc: 54.98, Train acc: 57.38\n",
        "Epoch: 8/15, Test acc: 54.54, Train acc: 57.85\n",
        "Epoch: 9/15, Test acc: 56.22, Train acc: 59.24\n",
        "Epoch: 10/15, Test acc: 55.58, Train acc: 58.85\n",
        "Epoch: 11/15, Test acc: 56.52, Train acc: 60.47\n",
        "Epoch: 12/15, Test acc: 56.64, Train acc: 60.96\n",
        "Epoch: 13/15, Test acc: 57.71, Train acc: 63.18\n",
        "Epoch: 14/15, Test acc: 57.92, Train acc: 63.24\n",
        "'''"
      ],
      "execution_count": 9,
      "outputs": [
        {
          "output_type": "execute_result",
          "data": {
            "application/vnd.google.colaboratory.intrinsic+json": {
              "type": "string"
            },
            "text/plain": [
              "'\\nEpoch: 0/15, Test acc: 41.10, Train acc: 40.77\\nEpoch: 1/15, Test acc: 43.90, Train acc: 44.02\\nEpoch: 2/15, Test acc: 48.01, Train acc: 48.32\\nEpoch: 3/15, Test acc: 48.21, Train acc: 49.00\\nEpoch: 4/15, Test acc: 51.09, Train acc: 52.10\\nEpoch: 5/15, Test acc: 52.90, Train acc: 54.54\\nEpoch: 6/15, Test acc: 53.91, Train acc: 55.91\\nEpoch: 7/15, Test acc: 54.98, Train acc: 57.38\\nEpoch: 8/15, Test acc: 54.54, Train acc: 57.85\\nEpoch: 9/15, Test acc: 56.22, Train acc: 59.24\\nEpoch: 10/15, Test acc: 55.58, Train acc: 58.85\\nEpoch: 11/15, Test acc: 56.52, Train acc: 60.47\\nEpoch: 12/15, Test acc: 56.64, Train acc: 60.96\\nEpoch: 13/15, Test acc: 57.71, Train acc: 63.18\\nEpoch: 14/15, Test acc: 57.92, Train acc: 63.24\\n'"
            ]
          },
          "metadata": {
            "tags": []
          },
          "execution_count": 9
        }
      ]
    },
    {
      "cell_type": "code",
      "metadata": {
        "id": "haR_fTprRFmn",
        "colab": {
          "base_uri": "https://localhost:8080/"
        },
        "outputId": "94c039df-ea5e-491a-9c06-a1e87e20420f"
      },
      "source": [
        "print('Test acc: %0.2f, Train acc: %0.2f' % (evaluation(testloader), evaluation(trainloader)))"
      ],
      "execution_count": 10,
      "outputs": [
        {
          "output_type": "stream",
          "text": [
            "Test acc: 54.61, Train acc: 56.43\n"
          ],
          "name": "stdout"
        }
      ]
    },
    {
      "cell_type": "code",
      "metadata": {
        "id": "1q-4plJNwVQQ"
      },
      "source": [
        "#Test acc: 57.92, Train acc: 63.24 - w/o weight decay\n",
        "#Test acc: 54.54, Train acc: 57.90 - With weight decay"
      ],
      "execution_count": 11,
      "outputs": []
    },
    {
      "cell_type": "markdown",
      "metadata": {
        "id": "v3RZSgGLO9iY"
      },
      "source": [
        "## Data loading"
      ]
    },
    {
      "cell_type": "code",
      "metadata": {
        "id": "fOgFtnl2ZXsx",
        "colab": {
          "base_uri": "https://localhost:8080/",
          "height": 555,
          "referenced_widgets": [
            "42b55b3447e84c60b8229152fc12d5c9",
            "e253d3d2e7b3442baa3024e75b46f6df",
            "abae896a65ee444389a06197f3798136",
            "235cc533939c474d8de8f1055c4e68ba",
            "600f5627a84d4f589fa015a10921822e",
            "e598cd66d7794797914bd51548d60e8e",
            "072e60743834493992a3e15d6026e1cb",
            "2d2e25b7ec374646998e0e9e3458cd9d",
            "8c1ad82d97294934891238aef973e000",
            "9f035f4bf3c346f2819cecfe9c9f965f",
            "cf1c965580504aa688bec044d8ce354d",
            "4657ed6fc0f746499a1f196ef5b94c56",
            "75d67dd39a234cbea0afb243257eb988",
            "347986d67bc14b8097bb8bbb6a854866",
            "f46d5b5f17894622b13ea5d7f4a43cff",
            "cf875cc44cd04c179bbdaffabf64eca0",
            "d2c26054472d429fb918b01d0c2c941f",
            "b8f9bdec640e4300b41afe7bbe5540ba",
            "db51a154378042669e23c3c163f9c870",
            "eacd29c81b2d41b3997411c9d70b22ba",
            "f7bb4cbfc36944098f9eb440b6497613",
            "c106ce95b4734c8c9e5728e9936627ec",
            "7324f314375a4a9491f6b7934ceafa8d",
            "1af82cc0c8b443adaa330f7131790440",
            "764de4eb07c04f38a6ad691e57ca0138",
            "f798b86bcca54c84a7a7c887ee6a9069",
            "77fba4cea79248469ce38cda5cf827e0",
            "f7288cf9c660471dba53408ac81389a4",
            "6ea112a433dc425a9692489157b405e7",
            "7e02f77bcda941f197e1d56b4097b916",
            "cb49a55d3c0e47759187f878c065bd5b",
            "f3c620a9ae4e4c878ae918c0392ddb0b"
          ]
        },
        "outputId": "e1c357a1-8544-4bdc-dacc-95a08b5b3072"
      },
      "source": [
        "#Download the MNIST dataset\n",
        "import torchvision.transforms as transforms\n",
        "trainset_MN = torchvision.datasets.MNIST(root='./data', train=True, \n",
        "                                        download=True, \n",
        "                                        transform=transforms.ToTensor())"
      ],
      "execution_count": 13,
      "outputs": [
        {
          "output_type": "stream",
          "text": [
            "Downloading http://yann.lecun.com/exdb/mnist/train-images-idx3-ubyte.gz\n",
            "Downloading http://yann.lecun.com/exdb/mnist/train-images-idx3-ubyte.gz to ./data/MNIST/raw/train-images-idx3-ubyte.gz\n"
          ],
          "name": "stdout"
        },
        {
          "output_type": "display_data",
          "data": {
            "application/vnd.jupyter.widget-view+json": {
              "model_id": "42b55b3447e84c60b8229152fc12d5c9",
              "version_minor": 0,
              "version_major": 2
            },
            "text/plain": [
              "HBox(children=(FloatProgress(value=0.0, max=9912422.0), HTML(value='')))"
            ]
          },
          "metadata": {
            "tags": []
          }
        },
        {
          "output_type": "stream",
          "text": [
            "\n",
            "Extracting ./data/MNIST/raw/train-images-idx3-ubyte.gz to ./data/MNIST/raw\n",
            "\n",
            "Downloading http://yann.lecun.com/exdb/mnist/train-labels-idx1-ubyte.gz\n",
            "Downloading http://yann.lecun.com/exdb/mnist/train-labels-idx1-ubyte.gz to ./data/MNIST/raw/train-labels-idx1-ubyte.gz\n"
          ],
          "name": "stdout"
        },
        {
          "output_type": "display_data",
          "data": {
            "application/vnd.jupyter.widget-view+json": {
              "model_id": "8c1ad82d97294934891238aef973e000",
              "version_minor": 0,
              "version_major": 2
            },
            "text/plain": [
              "HBox(children=(FloatProgress(value=0.0, max=28881.0), HTML(value='')))"
            ]
          },
          "metadata": {
            "tags": []
          }
        },
        {
          "output_type": "stream",
          "text": [
            "\n",
            "Extracting ./data/MNIST/raw/train-labels-idx1-ubyte.gz to ./data/MNIST/raw\n",
            "\n",
            "Downloading http://yann.lecun.com/exdb/mnist/t10k-images-idx3-ubyte.gz\n",
            "Downloading http://yann.lecun.com/exdb/mnist/t10k-images-idx3-ubyte.gz to ./data/MNIST/raw/t10k-images-idx3-ubyte.gz\n"
          ],
          "name": "stdout"
        },
        {
          "output_type": "display_data",
          "data": {
            "application/vnd.jupyter.widget-view+json": {
              "model_id": "d2c26054472d429fb918b01d0c2c941f",
              "version_minor": 0,
              "version_major": 2
            },
            "text/plain": [
              "HBox(children=(FloatProgress(value=0.0, max=1648877.0), HTML(value='')))"
            ]
          },
          "metadata": {
            "tags": []
          }
        },
        {
          "output_type": "stream",
          "text": [
            "\n",
            "Extracting ./data/MNIST/raw/t10k-images-idx3-ubyte.gz to ./data/MNIST/raw\n",
            "\n",
            "Downloading http://yann.lecun.com/exdb/mnist/t10k-labels-idx1-ubyte.gz\n",
            "Downloading http://yann.lecun.com/exdb/mnist/t10k-labels-idx1-ubyte.gz to ./data/MNIST/raw/t10k-labels-idx1-ubyte.gz\n"
          ],
          "name": "stdout"
        },
        {
          "output_type": "display_data",
          "data": {
            "application/vnd.jupyter.widget-view+json": {
              "model_id": "764de4eb07c04f38a6ad691e57ca0138",
              "version_minor": 0,
              "version_major": 2
            },
            "text/plain": [
              "HBox(children=(FloatProgress(value=0.0, max=4542.0), HTML(value='')))"
            ]
          },
          "metadata": {
            "tags": []
          }
        },
        {
          "output_type": "stream",
          "text": [
            "\n",
            "Extracting ./data/MNIST/raw/t10k-labels-idx1-ubyte.gz to ./data/MNIST/raw\n",
            "\n",
            "Processing...\n",
            "Done!\n"
          ],
          "name": "stdout"
        },
        {
          "output_type": "stream",
          "text": [
            "/usr/local/lib/python3.7/dist-packages/torchvision/datasets/mnist.py:502: UserWarning: The given NumPy array is not writeable, and PyTorch does not support non-writeable tensors. This means you can write to the underlying (supposedly non-writeable) NumPy array using the tensor. You may want to copy the array to protect its data or make it writeable before converting it to a tensor. This type of warning will be suppressed for the rest of this program. (Triggered internally at  /pytorch/torch/csrc/utils/tensor_numpy.cpp:143.)\n",
            "  return torch.from_numpy(parsed.astype(m[2], copy=False)).view(*s)\n"
          ],
          "name": "stderr"
        }
      ]
    },
    {
      "cell_type": "code",
      "metadata": {
        "id": "dpU3_h-JaFi_"
      },
      "source": [
        "#Load the train data in batches of 4 while shuffling to create some randomness\n",
        "trainloader_MN = torch.utils.data.DataLoader(trainset_MN, batch_size=4, shuffle=True)"
      ],
      "execution_count": 14,
      "outputs": []
    },
    {
      "cell_type": "code",
      "metadata": {
        "id": "TGkggskRaXhz",
        "colab": {
          "base_uri": "https://localhost:8080/"
        },
        "outputId": "71469114-5e23-4d5c-8eac-f80bbdb01b4d"
      },
      "source": [
        "#Declare an iter fucntion on the \"trainloader\" object and the next() function will load the first batch of images and labels.\n",
        "dataiter_MN = iter(trainloader_MN)\n",
        "images_MN, labels_MN = dataiter_MN.next()\n",
        "\n",
        "#4 images from 1 batch,1 channel,28*28 image resolution\n",
        "print(images_MN.shape)\n",
        "print(labels_MN.shape)\n",
        "print(labels_MN)\n",
        "\n",
        "#1st Image,1 channels(R,G,B),28*28 image resolution\n",
        "print(images_MN[1].shape)\n",
        "#First image correspond to index 2\n",
        "print(labels_MN[1].item())"
      ],
      "execution_count": 15,
      "outputs": [
        {
          "output_type": "stream",
          "text": [
            "torch.Size([4, 1, 28, 28])\n",
            "torch.Size([4])\n",
            "tensor([0, 0, 3, 4])\n",
            "torch.Size([1, 28, 28])\n",
            "0\n"
          ],
          "name": "stdout"
        }
      ]
    },
    {
      "cell_type": "markdown",
      "metadata": {
        "id": "bQTsI03XPGId"
      },
      "source": [
        "## Visualise data"
      ]
    },
    {
      "cell_type": "code",
      "metadata": {
        "id": "RMLgzgf8PtN9",
        "colab": {
          "base_uri": "https://localhost:8080/"
        },
        "outputId": "dbf92be7-65fd-4311-bf7c-057cdcd174c8"
      },
      "source": [
        "#Get the first impage which is of type Tensor\n",
        "img = images_MN[1]\n",
        "print(type(img))"
      ],
      "execution_count": 16,
      "outputs": [
        {
          "output_type": "stream",
          "text": [
            "<class 'torch.Tensor'>\n"
          ],
          "name": "stdout"
        }
      ]
    },
    {
      "cell_type": "code",
      "metadata": {
        "id": "mXeB_gG9QIIW",
        "colab": {
          "base_uri": "https://localhost:8080/"
        },
        "outputId": "f032f89c-a597-4969-8bc8-7ee09657e1bb"
      },
      "source": [
        "#Convert to numpy and print the dimensions which is 1*28*28\n",
        "npimg = img.numpy()\n",
        "print(npimg.shape)"
      ],
      "execution_count": 17,
      "outputs": [
        {
          "output_type": "stream",
          "text": [
            "(1, 28, 28)\n"
          ],
          "name": "stdout"
        }
      ]
    },
    {
      "cell_type": "code",
      "metadata": {
        "id": "T7MfJdNAQKmy",
        "colab": {
          "base_uri": "https://localhost:8080/"
        },
        "outputId": "41c512f2-c48f-4c0f-bc1e-b861e6ce9eee"
      },
      "source": [
        "# To plot it correctly the dimensions need to be modifeid in the (x,y,z) form compared to the current format (z,x,y)\n",
        "npimg = np.transpose(npimg, (1, 2, 0))\n",
        "# Reshape the array into 28 x 28 array (2-dimensional array)\n",
        "npimg = npimg.reshape((28, 28))\n",
        "print(npimg.shape)"
      ],
      "execution_count": 18,
      "outputs": [
        {
          "output_type": "stream",
          "text": [
            "(28, 28)\n"
          ],
          "name": "stdout"
        }
      ]
    },
    {
      "cell_type": "code",
      "metadata": {
        "id": "Xjh0IJNIQS4G",
        "colab": {
          "base_uri": "https://localhost:8080/",
          "height": 158
        },
        "outputId": "2fd0cdde-0787-4f4d-8b8d-9ea5f995f0c8"
      },
      "source": [
        "#The imshow can then display teh actual image abd the size is limited to (1,1) since the defualt size is very high.\n",
        "#https://stackoverflow.com/questions/37228371/visualize-mnist-dataset-using-opencv-or-matplotlib-pyplot\n",
        "plt.figure(figsize = (2,2))\n",
        "plt.imshow(npimg,cmap='gray')\n",
        "plt.show()"
      ],
      "execution_count": 19,
      "outputs": [
        {
          "output_type": "display_data",
          "data": {
            "image/png": "[encoded data removed]",
            "text/plain": [
              "<Figure size 144x144 with 1 Axes>"
            ]
          },
          "metadata": {
            "tags": [],
            "needs_background": "light"
          }
        }
      ]
    },
    {
      "cell_type": "code",
      "metadata": {
        "id": "ItDj5P3xZrX3"
      },
      "source": [
        "#The above steps are put in to function so that it can be called fora set of images\n",
        "def imshow(img):\n",
        "    npimg = img.numpy()\n",
        "    npimg = np.transpose(npimg, (1, 2, 0))\n",
        "    #npimg = npimg.reshape((28, 28))\n",
        "    plt.figure(figsize = (3,3))\n",
        "    plt.imshow(npimg,cmap='gray')\n",
        "    plt.show()\n",
        "\n",
        "#imshow(img)"
      ],
      "execution_count": 20,
      "outputs": []
    },
    {
      "cell_type": "code",
      "metadata": {
        "id": "vX2OhQjVhFVT",
        "colab": {
          "base_uri": "https://localhost:8080/",
          "height": 111
        },
        "outputId": "bb5d6932-9162-4b70-f257-80d346efe052"
      },
      "source": [
        "#A grid is made out using the torchvision.utils.make_grid and imshow is applie don top of it to dicusplay the grid of 4 images in the batch\n",
        "#https://pytorch.org/docs/stable/torchvision/utils.html\n",
        "imshow(torchvision.utils.make_grid(images_MN))\n",
        "#torchvision.utils.make_grid(images_MN)\n",
        "#print(' '.join(classes[labels[j]] for j in range(4)))\n",
        "#print(' '.join([labels_MN[j]] for j in range(4)))\n",
        "labels_MN.tolist()"
      ],
      "execution_count": 21,
      "outputs": [
        {
          "output_type": "display_data",
          "data": {
            "image/png": "[encoded data removed]",
            "text/plain": [
              "<Figure size 216x216 with 1 Axes>"
            ]
          },
          "metadata": {
            "tags": [],
            "needs_background": "light"
          }
        },
        {
          "output_type": "execute_result",
          "data": {
            "text/plain": [
              "[0, 0, 3, 4]"
            ]
          },
          "metadata": {
            "tags": []
          },
          "execution_count": 21
        }
      ]
    },
    {
      "cell_type": "markdown",
      "metadata": {
        "id": "ECHeB_BUTHl5"
      },
      "source": [
        "## Move to GPU"
      ]
    },
    {
      "cell_type": "code",
      "metadata": {
        "id": "dN_hZcMtwrVq"
      },
      "source": [
        "class LeNet_v2(nn.Module):\n",
        "    def __init__(self): \n",
        "        super(LeNet_v2, self).__init__()\n",
        "        self.cnn_model = nn.Sequential(\n",
        "            #Input is (N, 1, 28, 28) and added padding of 2 to retain the o/p shape of (N,  6, 28, 28)\n",
        "            nn.Conv2d(1, 6, 5, padding=2), # (N, 1, 28, 28) -> (N,  6, 28, 28)\n",
        "            nn.ReLU(),\n",
        "            nn.AvgPool2d(2, stride=2),  # (N, 6, 28, 28) -> (N,  6, 14, 14)\n",
        "            nn.Conv2d(6, 16, 5),        # (N, 6, 14, 14) -> (N, 16, 10, 10)  \n",
        "            nn.ReLU(),\n",
        "            nn.AvgPool2d(2, stride=2)   # (N,16, 10, 10) -> (N, 16, 5, 5)\n",
        "        )\n",
        "        self.fc_model = nn.Sequential(\n",
        "            nn.Linear(400,120),         # (N, 400) -> (N, 120)\n",
        "            nn.ReLU(),\n",
        "            nn.Linear(120,84),          # (N, 120) -> (N, 84)\n",
        "            nn.ReLU(),\n",
        "            nn.Linear(84,10)            # (N, 84)  -> (N, 10)\n",
        "        )\n",
        "        \n",
        "    def forward(self, x):\n",
        "        x = self.cnn_model(x)\n",
        "        x = x.view(x.size(0), -1)\n",
        "        x = self.fc_model(x)\n",
        "        return x"
      ],
      "execution_count": 22,
      "outputs": []
    },
    {
      "cell_type": "code",
      "metadata": {
        "id": "PirDSfGgxTuR"
      },
      "source": [
        "#The batch size is taken as 128 as a power of 2 as GPU's work best on batc sizes with powere of 2\n",
        "batch_size = 128\n",
        "trainset_MN = torchvision.datasets.MNIST(root='./data', train=True, download=True, transform=transforms.ToTensor())\n",
        "trainloader_MN = torch.utils.data.DataLoader(trainset_MN, batch_size=batch_size, shuffle=True)\n",
        "testset_MN = torchvision.datasets.MNIST(root='./data', train=False, download=True, transform=transforms.ToTensor())\n",
        "testloader_MN = torch.utils.data.DataLoader(testset_MN, batch_size=batch_size, shuffle=False)"
      ],
      "execution_count": 23,
      "outputs": []
    },
    {
      "cell_type": "code",
      "metadata": {
        "id": "Mj0-Y6zJTJ5z",
        "colab": {
          "base_uri": "https://localhost:8080/"
        },
        "outputId": "50dc1701-faa6-489f-f604-44d4914a6ee9"
      },
      "source": [
        "#Run the model on GPU for comparable results\n",
        "device = torch.device(\"cuda:0\" if torch.cuda.is_available() else \"cpu\")\n",
        "print(device)"
      ],
      "execution_count": 24,
      "outputs": [
        {
          "output_type": "stream",
          "text": [
            "cuda:0\n"
          ],
          "name": "stdout"
        }
      ]
    },
    {
      "cell_type": "code",
      "metadata": {
        "id": "n4fHbz2fTNpR"
      },
      "source": [
        "def evaluation(dataloader):\n",
        "    total, correct = 0, 0\n",
        "    for data in dataloader:\n",
        "        inputs, labels = data\n",
        "        inputs, labels = inputs.to(device), labels.to(device)\n",
        "        outputs = net(inputs)\n",
        "        _, pred = torch.max(outputs.data, 1)\n",
        "        total += labels.size(0)\n",
        "        correct += (pred == labels).sum().item()\n",
        "    return 100 * correct / total"
      ],
      "execution_count": 25,
      "outputs": []
    },
    {
      "cell_type": "code",
      "metadata": {
        "id": "mnxecsfVTQH-"
      },
      "source": [
        "net = LeNet_v2().to(device)\n",
        "loss_fn = nn.CrossEntropyLoss()\n",
        "opt = optim.Adam(net.parameters())"
      ],
      "execution_count": 26,
      "outputs": []
    },
    {
      "cell_type": "code",
      "metadata": {
        "id": "i9t3Js-XTWkf",
        "colab": {
          "base_uri": "https://localhost:8080/",
          "height": 541
        },
        "outputId": "d402a5eb-bb11-4137-ce2c-75b220686796"
      },
      "source": [
        "%%time\n",
        "loss_arr = []\n",
        "loss_epoch_arr = []\n",
        "max_epochs = 15\n",
        "\n",
        "for epoch in range(max_epochs):\n",
        "\n",
        "    for i, data in enumerate(trainloader_MN, 0):\n",
        "\n",
        "        inputs, labels = data\n",
        "        inputs, labels = inputs.to(device), labels.to(device)\n",
        "\n",
        "        opt.zero_grad()\n",
        "\n",
        "        outputs = net(inputs)\n",
        "        loss = loss_fn(outputs, labels)\n",
        "        loss.backward()\n",
        "        opt.step()\n",
        "        loss_arr.append(loss.item())\n",
        "        \n",
        "    loss_epoch_arr.append(loss.item())\n",
        "\n",
        "        \n",
        "    print('Epoch: %d/%d, Test acc: %0.2f, Train acc: %0.2f' % (epoch, max_epochs, evaluation(testloader_MN), evaluation(trainloader_MN)))\n",
        "\n",
        "plt.plot(loss_epoch_arr)\n",
        "plt.show()"
      ],
      "execution_count": 27,
      "outputs": [
        {
          "output_type": "stream",
          "text": [
            "Epoch: 0/15, Test acc: 93.81, Train acc: 93.66\n",
            "Epoch: 1/15, Test acc: 96.62, Train acc: 96.34\n",
            "Epoch: 2/15, Test acc: 97.58, Train acc: 97.55\n",
            "Epoch: 3/15, Test acc: 97.84, Train acc: 97.87\n",
            "Epoch: 4/15, Test acc: 98.05, Train acc: 98.11\n",
            "Epoch: 5/15, Test acc: 98.49, Train acc: 98.74\n",
            "Epoch: 6/15, Test acc: 98.71, Train acc: 99.01\n",
            "Epoch: 7/15, Test acc: 98.74, Train acc: 99.10\n",
            "Epoch: 8/15, Test acc: 98.61, Train acc: 99.25\n",
            "Epoch: 9/15, Test acc: 98.82, Train acc: 99.22\n",
            "Epoch: 10/15, Test acc: 98.74, Train acc: 99.39\n",
            "Epoch: 11/15, Test acc: 98.83, Train acc: 99.42\n",
            "Epoch: 12/15, Test acc: 99.05, Train acc: 99.62\n",
            "Epoch: 13/15, Test acc: 98.90, Train acc: 99.59\n",
            "Epoch: 14/15, Test acc: 98.81, Train acc: 99.53\n"
          ],
          "name": "stdout"
        },
        {
          "output_type": "display_data",
          "data": {
            "image/png": "[encoded data removed]",
            "text/plain": [
              "<Figure size 432x288 with 1 Axes>"
            ]
          },
          "metadata": {
            "tags": [],
            "needs_background": "light"
          }
        },
        {
          "output_type": "stream",
          "text": [
            "CPU times: user 2min 13s, sys: 698 ms, total: 2min 13s\n",
            "Wall time: 2min 13s\n"
          ],
          "name": "stdout"
        }
      ]
    },
    {
      "cell_type": "code",
      "metadata": {
        "id": "1mao_iiQZVlE",
        "colab": {
          "base_uri": "https://localhost:8080/"
        },
        "outputId": "5e4e8f1b-b62b-4c61-9293-f691d38eefdb"
      },
      "source": [
        "print('Test acc: %0.2f, Train acc: %0.2f' % (evaluation(testloader_MN), evaluation(trainloader_MN)))"
      ],
      "execution_count": 28,
      "outputs": [
        {
          "output_type": "stream",
          "text": [
            "Test acc: 98.81, Train acc: 99.53\n"
          ],
          "name": "stdout"
        }
      ]
    }
  ]
}